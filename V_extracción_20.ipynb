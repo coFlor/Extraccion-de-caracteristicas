{
 "cells": [
  {
   "cell_type": "code",
   "execution_count": 1,
   "metadata": {},
   "outputs": [],
   "source": [
    "import pandas as pd\n",
    "import numpy as np\n",
    "import matplotlib.pyplot as plt\n",
    "from funpymodeling.exploratory import freq_tbl"
   ]
  },
  {
   "cell_type": "code",
   "execution_count": 2,
   "metadata": {},
   "outputs": [],
   "source": [
    "data= pd.read_csv(\"Valencia_IQR.csv\")"
   ]
  },
  {
   "cell_type": "code",
   "execution_count": 3,
   "metadata": {},
   "outputs": [
    {
     "name": "stdout",
     "output_type": "stream",
     "text": [
      "<class 'pandas.core.frame.DataFrame'>\n",
      "RangeIndex: 9447 entries, 0 to 9446\n",
      "Data columns (total 54 columns):\n",
      " #   Column                                           Non-Null Count  Dtype  \n",
      "---  ------                                           --------------  -----  \n",
      " 0   Unnamed: 0.2                                     9447 non-null   int64  \n",
      " 1   fuente                                           9447 non-null   object \n",
      " 2   nombre                                           9447 non-null   object \n",
      " 3   descripción                                      9447 non-null   object \n",
      " 4   descripción general del vecindario               9447 non-null   object \n",
      " 5   nombre_host                                      9447 non-null   object \n",
      " 6   tiempo_respuesta_host                            9447 non-null   object \n",
      " 7   tasa_respuesta_host                              9447 non-null   object \n",
      " 8   tasa_de_aceptación_host                          9447 non-null   object \n",
      " 9   host_is_superhost                                9447 non-null   object \n",
      " 10  barrio_limpio                                    9447 non-null   object \n",
      " 11  grupo_vecindario_limpiado                        9447 non-null   object \n",
      " 12  tipo_propiedad                                   9447 non-null   object \n",
      " 13  tipo_habitación                                  9447 non-null   object \n",
      " 14  baños                                            9447 non-null   object \n",
      " 15  dormitorios                                      9447 non-null   object \n",
      " 16  camas                                            9447 non-null   object \n",
      " 17  comodidades                                      9447 non-null   object \n",
      " 18  precio                                           9447 non-null   object \n",
      " 19  tiene_disponibilidad                             9447 non-null   object \n",
      " 20  primera_revisión                                 9447 non-null   object \n",
      " 21  última_revisión                                  9447 non-null   object \n",
      " 22  reservable_instantáneamente                      9447 non-null   object \n",
      " 23  reseñas_por_mes                                  9447 non-null   object \n",
      " 24  Unnamed: 0.1                                     9447 non-null   int64  \n",
      " 25  Unnamed: 0                                       9447 non-null   int64  \n",
      " 26  identificación                                   9447 non-null   float64\n",
      " 27  id_host                                          9447 non-null   int64  \n",
      " 28  latitud                                          9447 non-null   float64\n",
      " 29  longitud                                         9447 non-null   float64\n",
      " 30  se adapta                                        9447 non-null   float64\n",
      " 31  noches_mínimo                                    9447 non-null   float64\n",
      " 32  noches_maximas                                   9447 non-null   int64  \n",
      " 33  noches_mínimo_avg_ntm                            9447 non-null   float64\n",
      " 34  máximas_noches_avg_ntm                           9447 non-null   float64\n",
      " 35  disponibilidad_30                                9447 non-null   int64  \n",
      " 36  disponibilidad_60                                9447 non-null   int64  \n",
      " 37  disponibilidad_90                                9447 non-null   int64  \n",
      " 38  disponibilidad_365                               9447 non-null   int64  \n",
      " 39  número_de_reseñas                                9447 non-null   float64\n",
      " 40  número_de_reviews_ltm                            9447 non-null   float64\n",
      " 41  número_de_reviews_l30d                           9447 non-null   int64  \n",
      " 42  review_scores_rating                             9447 non-null   float64\n",
      " 43  review_scores_accuracy                           9447 non-null   float64\n",
      " 44  review_scores_cleanliness                        9447 non-null   float64\n",
      " 45  review_scores_checkin                            9447 non-null   float64\n",
      " 46  review_scores_comunicación                       9447 non-null   float64\n",
      " 47  review_scores_location                           9447 non-null   float64\n",
      " 48  review_scores_value                              9447 non-null   float64\n",
      " 49  calculado_host_listings_count                    9447 non-null   float64\n",
      " 50  listados_host_calculados_recuento_casas_enteras  9447 non-null   float64\n",
      " 51  calculado_host_listings_count_private_rooms      9447 non-null   float64\n",
      " 52  calculado_host_listings_count_shared_rooms       9447 non-null   int64  \n",
      " 53  reseÃ±as_por_mes                                 9447 non-null   object \n",
      "dtypes: float64(19), int64(11), object(24)\n",
      "memory usage: 3.9+ MB\n"
     ]
    }
   ],
   "source": [
    "data.info()"
   ]
  },
  {
   "cell_type": "code",
   "execution_count": 4,
   "metadata": {},
   "outputs": [],
   "source": [
    "data.head()\n",
    "n=50"
   ]
  },
  {
   "cell_type": "code",
   "execution_count": 5,
   "metadata": {},
   "outputs": [
    {
     "name": "stdout",
     "output_type": "stream",
     "text": [
      "            fuente  frequency  percentage  cumulative_perc\n",
      "0      city scrape       8640    0.914576         0.914576\n",
      "1  previous scrape        807    0.085424         1.000000\n",
      "\n",
      "----------------------------------------------------------------\n",
      "\n",
      "                                                 nombre  frequency  \\\n",
      "0     BM Bright Urban Style apartment close to the b...        104   \n",
      "1                 Cozy studio near Valencia city centre         80   \n",
      "2       Modern studio a few blocks away from the centre         50   \n",
      "3                               HabitaciÃ³n en Valencia         21   \n",
      "4                         HabitaciÃ³n con baÃ±o privado         14   \n",
      "...                                                 ...        ...   \n",
      "8813            Newly renovated flat in historic center          1   \n",
      "8814                                          Easytimes          1   \n",
      "8815             HabitaciÃ³n Doble con baÃ±o compartido          1   \n",
      "8816   Monthly stays at Central Park & Ruzafa apartment          1   \n",
      "8817                                          Turia VII          1   \n",
      "\n",
      "      percentage  cumulative_perc  \n",
      "0       0.011009         0.011009  \n",
      "1       0.008468         0.019477  \n",
      "2       0.005293         0.024770  \n",
      "3       0.002223         0.026993  \n",
      "4       0.001482         0.028475  \n",
      "...          ...              ...  \n",
      "8813    0.000106         0.999577  \n",
      "8814    0.000106         0.999682  \n",
      "8815    0.000106         0.999788  \n",
      "8816    0.000106         0.999894  \n",
      "8817    0.000106         1.000000  \n",
      "\n",
      "[8818 rows x 4 columns]\n",
      "\n",
      "----------------------------------------------------------------\n",
      "\n",
      "                                            descripción  frequency  \\\n",
      "0                                       Sin descripción        379   \n",
      "1     The VLC Urban Style by the Beachside Apartment...        102   \n",
      "2     The VLC VisitaciÃ³n Studio B is a unique and c...         73   \n",
      "3     VLC Visitacion Studio D is a newly renovated, ...         50   \n",
      "4     Enjoy the simplicity of this quiet, central home.         45   \n",
      "...                                                 ...        ...   \n",
      "7600  We have a beautiful accommodation, located nea...          1   \n",
      "7601  Newly renovated apartment in El Cabanyal, Vale...          1   \n",
      "7602  Super view to one of the most central points i...          1   \n",
      "7603  Bright apartment fully equipped for 4 guests. ...          1   \n",
      "7604  This modern and bright apartment, located on t...          1   \n",
      "\n",
      "      percentage  cumulative_perc  \n",
      "0       0.040119         0.040119  \n",
      "1       0.010797         0.050916  \n",
      "2       0.007727         0.058643  \n",
      "3       0.005293         0.063936  \n",
      "4       0.004763         0.068699  \n",
      "...          ...              ...  \n",
      "7600    0.000106         0.999577  \n",
      "7601    0.000106         0.999682  \n",
      "7602    0.000106         0.999788  \n",
      "7603    0.000106         0.999894  \n",
      "7604    0.000106         1.000000  \n",
      "\n",
      "[7605 rows x 4 columns]\n",
      "\n",
      "----------------------------------------------------------------\n",
      "\n",
      "                     descripción general del vecindario  frequency  \\\n",
      "0                                     No cuenta con una       4990   \n",
      "1     Its location makes it convenient for people in...        130   \n",
      "2     The Cabanyal neighborhood is the fishing / mar...        111   \n",
      "3     The apartment is located in the heart of Ruzaf...         44   \n",
      "4     Quiet and humble neighborhood, very well conne...         20   \n",
      "...                                                 ...        ...   \n",
      "3397  the apartment is located in a neighborhood wit...          1   \n",
      "3398  Ciutat Vella in El Carmen. Full historic downt...          1   \n",
      "3399  The location is one of the best features of th...          1   \n",
      "3400  The apartment is located in the Barrio del Car...          1   \n",
      "3401  One of the most beautiful areas of Valencia, r...          1   \n",
      "\n",
      "      percentage  cumulative_perc  \n",
      "0       0.528210         0.528210  \n",
      "1       0.013761         0.541971  \n",
      "2       0.011750         0.553721  \n",
      "3       0.004658         0.558378  \n",
      "4       0.002117         0.560495  \n",
      "...          ...              ...  \n",
      "3397    0.000106         0.999577  \n",
      "3398    0.000106         0.999682  \n",
      "3399    0.000106         0.999788  \n",
      "3400    0.000106         0.999894  \n",
      "3401    0.000106         1.000000  \n",
      "\n",
      "[3402 rows x 4 columns]\n",
      "\n",
      "----------------------------------------------------------------\n",
      "\n",
      "        nombre_host  frequency  percentage  cumulative_perc\n",
      "0          VLC Host        156    0.016513         0.016513\n",
      "1         Alexandra        150    0.015878         0.032391\n",
      "2     SingularStays        116    0.012279         0.044670\n",
      "3            Carlos        106    0.011220         0.055891\n",
      "4             Julio         92    0.009739         0.065629\n",
      "...             ...        ...         ...              ...\n",
      "2169       Mykhailo          1    0.000106         0.999577\n",
      "2170           Deva          1    0.000106         0.999682\n",
      "2171          Joaco          1    0.000106         0.999788\n",
      "2172     Lumen Mare          1    0.000106         0.999894\n",
      "2173         Marion          1    0.000106         1.000000\n",
      "\n",
      "[2174 rows x 4 columns]\n",
      "\n",
      "----------------------------------------------------------------\n",
      "\n",
      "  tiempo_respuesta_host  frequency  percentage  cumulative_perc\n",
      "0        within an hour       6909    0.731343         0.731343\n",
      "1    within a few hours       1045    0.110617         0.841960\n",
      "2          No mentioned        643    0.068064         0.910024\n",
      "3          within a day        502    0.053139         0.963163\n",
      "4    a few days or more        348    0.036837         1.000000\n",
      "\n",
      "----------------------------------------------------------------\n",
      "\n",
      "   tasa_respuesta_host  frequency  percentage  cumulative_perc\n",
      "0                 100%       6558    0.694189         0.694189\n",
      "1                    0        643    0.068064         0.762253\n",
      "2                  90%        271    0.028686         0.790939\n",
      "3                  91%        190    0.020112         0.811051\n",
      "4                  99%        178    0.018842         0.829893\n",
      "..                 ...        ...         ...              ...\n",
      "63                 58%          1    0.000106         0.999577\n",
      "64                 56%          1    0.000106         0.999682\n",
      "65                 55%          1    0.000106         0.999788\n",
      "66                 36%          1    0.000106         0.999894\n",
      "67                  6%          1    0.000106         1.000000\n",
      "\n",
      "[68 rows x 4 columns]\n",
      "\n",
      "----------------------------------------------------------------\n",
      "\n",
      "   tasa_de_aceptación_host  frequency  percentage  cumulative_perc\n",
      "0                     100%       3779    0.400021         0.400021\n",
      "1                      99%       1022    0.108182         0.508204\n",
      "2                      98%        464    0.049116         0.557320\n",
      "3                      96%        414    0.043823         0.601143\n",
      "4                        0        335    0.035461         0.636604\n",
      "..                     ...        ...         ...              ...\n",
      "94                     42%          2    0.000212         0.999577\n",
      "95                     14%          1    0.000106         0.999682\n",
      "96                     23%          1    0.000106         0.999788\n",
      "97                     21%          1    0.000106         0.999894\n",
      "98                      5%          1    0.000106         1.000000\n",
      "\n",
      "[99 rows x 4 columns]\n",
      "\n",
      "----------------------------------------------------------------\n",
      "\n",
      "  host_is_superhost  frequency  percentage  cumulative_perc\n",
      "0                 f       6578    0.696306         0.696306\n",
      "1                 t       2525    0.267281         0.963586\n",
      "2     No mencionado        344    0.036414         1.000000\n",
      "\n",
      "----------------------------------------------------------------\n",
      "\n",
      "           barrio_limpio  frequency  percentage  cumulative_perc\n",
      "0    CABANYAL-CANYAMELAR       1005    0.106383         0.106383\n",
      "1                RUSSAFA        646    0.068381         0.174764\n",
      "2                  AIORA        405    0.042871         0.217635\n",
      "3              EL MERCAT        384    0.040648         0.258283\n",
      "4               EL CARME        337    0.035673         0.293956\n",
      "..                   ...        ...         ...              ...\n",
      "79  CASTELLAR-L'OLIVERAL          5    0.000529         0.999047\n",
      "80           MASSARROJOS          3    0.000318         0.999365\n",
      "81      EL FORN D'ALCEDO          3    0.000318         0.999682\n",
      "82               CARPESA          2    0.000212         0.999894\n",
      "83   MAHUELLA-TAULADELLA          1    0.000106         1.000000\n",
      "\n",
      "[84 rows x 4 columns]\n",
      "\n",
      "----------------------------------------------------------------\n",
      "\n",
      "   grupo_vecindario_limpiado  frequency  percentage  cumulative_perc\n",
      "0           POBLATS MARITIMS       1805    0.191066         0.191066\n",
      "1               CIUTAT VELLA       1570    0.166190         0.357256\n",
      "2             CAMINS AL GRAU        862    0.091246         0.448502\n",
      "3            QUATRE CARRERES        809    0.085636         0.534138\n",
      "4                 L'EIXAMPLE        794    0.084048         0.618186\n",
      "5                  EXTRAMURS        724    0.076638         0.694824\n",
      "6                  LA SAIDIA        533    0.056420         0.751244\n",
      "7                    ALGIROS        406    0.042977         0.794220\n",
      "8                      JESUS        299    0.031650         0.825871\n",
      "9                L'OLIVERETA        294    0.031121         0.856992\n",
      "10                   PATRAIX        217    0.022970         0.879962\n",
      "11                 BENICALAP        204    0.021594         0.901556\n",
      "12                  RASCANYA        196    0.020747         0.922303\n",
      "13           POBLATS DEL SUD        194    0.020536         0.942839\n",
      "14           EL PLA DEL REAL        191    0.020218         0.963057\n",
      "15                  CAMPANAR        147    0.015560         0.978618\n",
      "16                BENIMACLET        142    0.015031         0.993649\n",
      "17         POBLATS DE L'OEST         48    0.005081         0.998730\n",
      "18          POBLATS DEL NORD         12    0.001270         1.000000\n",
      "\n",
      "----------------------------------------------------------------\n",
      "\n",
      "                        tipo_propiedad  frequency  percentage  cumulative_perc\n",
      "0                   Entire rental unit       5446    0.576479         0.576479\n",
      "1          Private room in rental unit       2064    0.218482         0.794961\n",
      "2                          Entire loft        533    0.056420         0.851381\n",
      "3                          Entire home        240    0.025405         0.876786\n",
      "4                         Entire condo        224    0.023711         0.900498\n",
      "5                 Private room in home        175    0.018524         0.919022\n",
      "6                Private room in condo        127    0.013443         0.932465\n",
      "7            Entire serviced apartment        105    0.011115         0.943580\n",
      "8    Private room in bed and breakfast         81    0.008574         0.952154\n",
      "9      Private room in casa particular         64    0.006775         0.958929\n",
      "10                Entire vacation home         48    0.005081         0.964010\n",
      "11                       Room in hotel         45    0.004763         0.968773\n",
      "12              Room in boutique hotel         39    0.004128         0.972901\n",
      "13                    Entire townhouse         36    0.003811         0.976712\n",
      "14                  Room in aparthotel         26    0.002752         0.979464\n",
      "15              Private room in hostel         25    0.002646         0.982111\n",
      "16          Shared room in rental unit         22    0.002329         0.984440\n",
      "17                  Entire guest suite         16    0.001694         0.986133\n",
      "18                Shared room in hotel         16    0.001694         0.987827\n",
      "19                                Boat         15    0.001588         0.989415\n",
      "20  Private room in serviced apartment         11    0.001164         0.990579\n",
      "21                     Casa particular         10    0.001059         0.991638\n",
      "22                           Camper/RV          9    0.000953         0.992590\n",
      "23          Private room in guesthouse          8    0.000847         0.993437\n",
      "24                 Shared room in loft          7    0.000741         0.994178\n",
      "25                           Tiny home          7    0.000741         0.994919\n",
      "26         Private room in guest suite          6    0.000635         0.995554\n",
      "27                       Entire chalet          6    0.000635         0.996189\n",
      "28                        Entire place          5    0.000529         0.996719\n",
      "29                      Entire cottage          4    0.000423         0.997142\n",
      "30               Shared room in hostel          3    0.000318         0.997460\n",
      "31           Private room in townhouse          3    0.000318         0.997777\n",
      "32                   Entire guesthouse          3    0.000318         0.998095\n",
      "33                      Room in hostel          2    0.000212         0.998306\n",
      "34      Shared room in casa particular          2    0.000212         0.998518\n",
      "35           Private room in camper/rv          2    0.000212         0.998730\n",
      "36                Private room in loft          2    0.000212         0.998941\n",
      "37       Private room in vacation home          1    0.000106         0.999047\n",
      "38                 Shared room in home          1    0.000106         0.999153\n",
      "39                        Private room          1    0.000106         0.999259\n",
      "40                Shared room in condo          1    0.000106         0.999365\n",
      "41                           Houseboat          1    0.000106         0.999471\n",
      "42                        Entire cabin          1    0.000106         0.999577\n",
      "43                              Castle          1    0.000106         0.999682\n",
      "44                        Entire villa          1    0.000106         0.999788\n",
      "45                     Entire bungalow          1    0.000106         0.999894\n",
      "46           Shared room in lighthouse          1    0.000106         1.000000\n",
      "\n",
      "----------------------------------------------------------------\n",
      "\n",
      "   tipo_habitación  frequency  percentage  cumulative_perc\n",
      "0  Entire home/apt       6721    0.711443         0.711443\n",
      "1     Private room       2659    0.281465         0.992908\n",
      "2      Shared room         53    0.005610         0.998518\n",
      "3       Hotel room         14    0.001482         1.000000\n",
      "\n",
      "----------------------------------------------------------------\n",
      "\n",
      "       baños  frequency  percentage  cumulative_perc\n",
      "0          1       6035    0.638827         0.638827\n",
      "1          2       1636    0.173177         0.812004\n",
      "2   Sin info        816    0.086377         0.898380\n",
      "3        1.5        554    0.058643         0.957023\n",
      "4        0.5        111    0.011750         0.968773\n",
      "5          3         95    0.010056         0.978829\n",
      "6        2.5         81    0.008574         0.987403\n",
      "7          0         49    0.005187         0.992590\n",
      "8          4         28    0.002964         0.995554\n",
      "9        3.5         17    0.001800         0.997354\n",
      "10         5         11    0.001164         0.998518\n",
      "11         7          5    0.000529         0.999047\n",
      "12         6          4    0.000423         0.999471\n",
      "13       4.5          3    0.000318         0.999788\n",
      "14       6.5          1    0.000106         0.999894\n",
      "15      11.5          1    0.000106         1.000000\n",
      "\n",
      "----------------------------------------------------------------\n",
      "\n",
      "   dormitorios  frequency  percentage  cumulative_perc\n",
      "0            1       4912    0.519953         0.519953\n",
      "1            2       2098    0.222081         0.742035\n",
      "2            3       1191    0.126072         0.868106\n",
      "3            0        582    0.061607         0.929713\n",
      "4            4        293    0.031015         0.960728\n",
      "5     Sin info        282    0.029851         0.990579\n",
      "6            5         58    0.006140         0.996719\n",
      "7            6         18    0.001905         0.998624\n",
      "8            7          8    0.000847         0.999471\n",
      "9           13          2    0.000212         0.999682\n",
      "10           8          1    0.000106         0.999788\n",
      "11          17          1    0.000106         0.999894\n",
      "12          12          1    0.000106         1.000000\n",
      "\n",
      "----------------------------------------------------------------\n",
      "\n",
      "       camas  frequency  percentage  cumulative_perc\n",
      "0          1       3210    0.339790         0.339790\n",
      "1          2       2511    0.265799         0.605589\n",
      "2          3       1393    0.147454         0.753043\n",
      "3   Sin info        813    0.086059         0.839102\n",
      "4          4        780    0.082566         0.921668\n",
      "5          5        284    0.030062         0.951731\n",
      "6          0        229    0.024240         0.975971\n",
      "7          6        116    0.012279         0.988250\n",
      "8          7         42    0.004446         0.992696\n",
      "9          8         20    0.002117         0.994813\n",
      "10        10          9    0.000953         0.995766\n",
      "11         9          9    0.000953         0.996719\n",
      "12        20          8    0.000847         0.997565\n",
      "13        11          5    0.000529         0.998095\n",
      "14        14          4    0.000423         0.998518\n",
      "15        12          3    0.000318         0.998836\n",
      "16        13          2    0.000212         0.999047\n",
      "17        22          2    0.000212         0.999259\n",
      "18        15          2    0.000212         0.999471\n",
      "19        16          2    0.000212         0.999682\n",
      "20        17          2    0.000212         0.999894\n",
      "21        18          1    0.000106         1.000000\n",
      "\n",
      "----------------------------------------------------------------\n",
      "\n",
      "                                            comodidades  frequency  \\\n",
      "0                                                    []        127   \n",
      "1     [\"Iron\", \"Microwave\", \"Air conditioning\", \"Bed...        123   \n",
      "2     [\"Iron\", \"Microwave\", \"Kitchen\", \"Dishwasher\",...        104   \n",
      "3     [\"TV\", \"Kitchen\", \"Wifi\", \"Air conditioning\", ...         60   \n",
      "4     [\"TV\", \"Kitchen\", \"Dedicated workspace\", \"Wifi...         31   \n",
      "...                                                 ...        ...   \n",
      "8228  [\"Portable heater\", \"Smart lock\", \"Cleaning av...          1   \n",
      "8229  [\"Host greets you\", \"Crib - always at the list...          1   \n",
      "8230  [\"Iron\", \"Microwave\", \"Carrefour selecta shamp...          1   \n",
      "8231  [\"Iron\", \"Crib - available upon request\", \"Mic...          1   \n",
      "8232  [\"Iron\", \"Self check-in\", \"TV with standard ca...          1   \n",
      "\n",
      "      percentage  cumulative_perc  \n",
      "0       0.013443         0.013443  \n",
      "1       0.013020         0.026463  \n",
      "2       0.011009         0.037472  \n",
      "3       0.006351         0.043823  \n",
      "4       0.003281         0.047105  \n",
      "...          ...              ...  \n",
      "8228    0.000106         0.999577  \n",
      "8229    0.000106         0.999682  \n",
      "8230    0.000106         0.999788  \n",
      "8231    0.000106         0.999894  \n",
      "8232    0.000106         1.000000  \n",
      "\n",
      "[8233 rows x 4 columns]\n",
      "\n",
      "----------------------------------------------------------------\n",
      "\n",
      "          precio  frequency  percentage  cumulative_perc\n",
      "0    No asignado        807    0.085424         0.085424\n",
      "1        $100.00        186    0.019689         0.105113\n",
      "2        $120.00        153    0.016196         0.121308\n",
      "3         $50.00        141    0.014925         0.136234\n",
      "4         $40.00        134    0.014184         0.150418\n",
      "..           ...        ...         ...              ...\n",
      "404      $232.00          1    0.000106         0.999577\n",
      "405      $864.00          1    0.000106         0.999682\n",
      "406      $625.00          1    0.000106         0.999788\n",
      "407    $1,057.00          1    0.000106         0.999894\n",
      "408      $296.00          1    0.000106         1.000000\n",
      "\n",
      "[409 rows x 4 columns]\n",
      "\n",
      "----------------------------------------------------------------\n",
      "\n",
      "  tiene_disponibilidad  frequency  percentage  cumulative_perc\n",
      "0                    t       9244    0.978512         0.978512\n",
      "1      No hay detalles        203    0.021488         1.000000\n",
      "\n",
      "----------------------------------------------------------------\n",
      "\n",
      "     primera_revisión  frequency  percentage  cumulative_perc\n",
      "0           Sin fecha       1451    0.153594         0.153594\n",
      "1          17/03/2024         80    0.008468         0.162062\n",
      "2          26/11/2023         40    0.004234         0.166296\n",
      "3          19/03/2023         37    0.003917         0.170213\n",
      "4          31/03/2024         36    0.003811         0.174023\n",
      "...               ...        ...         ...              ...\n",
      "2245       29/12/2018          1    0.000106         0.999577\n",
      "2246       10/11/2018          1    0.000106         0.999682\n",
      "2247       11/06/2019          1    0.000106         0.999788\n",
      "2248       06/01/2019          1    0.000106         0.999894\n",
      "2249       11/09/2024          1    0.000106         1.000000\n",
      "\n",
      "[2250 rows x 4 columns]\n",
      "\n",
      "----------------------------------------------------------------\n",
      "\n",
      "    última_revisión  frequency  percentage  cumulative_perc\n",
      "0         Sin fecha       1451    0.153594         0.153594\n",
      "1        15/09/2024        392    0.041495         0.195088\n",
      "2        16/09/2024        293    0.031015         0.226104\n",
      "3        01/09/2024        265    0.028051         0.254155\n",
      "4        08/09/2024        207    0.021912         0.276066\n",
      "..              ...        ...         ...              ...\n",
      "698      22/09/2019          1    0.000106         0.999577\n",
      "699      30/09/2022          1    0.000106         0.999682\n",
      "700      08/11/2022          1    0.000106         0.999788\n",
      "701      29/12/2021          1    0.000106         0.999894\n",
      "702      17/04/2024          1    0.000106         1.000000\n",
      "\n",
      "[703 rows x 4 columns]\n",
      "\n",
      "----------------------------------------------------------------\n",
      "\n",
      "  reservable_instantáneamente  frequency  percentage  cumulative_perc\n",
      "0                           f       5462    0.578173         0.578173\n",
      "1                           t       3985    0.421827         1.000000\n",
      "\n",
      "----------------------------------------------------------------\n",
      "\n",
      "    reseñas_por_mes  frequency  percentage  cumulative_perc\n",
      "0                --       1451    0.153594         0.153594\n",
      "1                 1        186    0.019689         0.173283\n",
      "2              0.16         63    0.006669         0.179951\n",
      "3                 2         60    0.006351         0.186303\n",
      "4              0.08         53    0.005610         0.191913\n",
      "..              ...        ...         ...              ...\n",
      "722            8.03          1    0.000106         0.999577\n",
      "723            5.93          1    0.000106         0.999682\n",
      "724           10.07          1    0.000106         0.999788\n",
      "725            7.15          1    0.000106         0.999894\n",
      "726            6.32          1    0.000106         1.000000\n",
      "\n",
      "[727 rows x 4 columns]\n",
      "\n",
      "----------------------------------------------------------------\n",
      "\n",
      "    reseÃ±as_por_mes  frequency  percentage  cumulative_perc\n",
      "0                 --       1451    0.153594         0.153594\n",
      "1                  1        186    0.019689         0.173283\n",
      "2               0.16         63    0.006669         0.179951\n",
      "3                  2         60    0.006351         0.186303\n",
      "4               0.08         53    0.005610         0.191913\n",
      "..               ...        ...         ...              ...\n",
      "722             8.03          1    0.000106         0.999577\n",
      "723             5.93          1    0.000106         0.999682\n",
      "724            10.07          1    0.000106         0.999788\n",
      "725             7.15          1    0.000106         0.999894\n",
      "726             6.32          1    0.000106         1.000000\n",
      "\n",
      "[727 rows x 4 columns]\n",
      "\n",
      "----------------------------------------------------------------\n",
      "\n"
     ]
    }
   ],
   "source": [
    "freq_tbl(data)"
   ]
  },
  {
   "cell_type": "markdown",
   "metadata": {},
   "source": [
    "__1) SOURCE__"
   ]
  },
  {
   "cell_type": "code",
   "execution_count": 6,
   "metadata": {},
   "outputs": [
    {
     "data": {
      "text/html": [
       "<div>\n",
       "<style scoped>\n",
       "    .dataframe tbody tr th:only-of-type {\n",
       "        vertical-align: middle;\n",
       "    }\n",
       "\n",
       "    .dataframe tbody tr th {\n",
       "        vertical-align: top;\n",
       "    }\n",
       "\n",
       "    .dataframe thead th {\n",
       "        text-align: right;\n",
       "    }\n",
       "</style>\n",
       "<table border=\"1\" class=\"dataframe\">\n",
       "  <thead>\n",
       "    <tr style=\"text-align: right;\">\n",
       "      <th></th>\n",
       "      <th>frequency</th>\n",
       "    </tr>\n",
       "    <tr>\n",
       "      <th>fuente</th>\n",
       "      <th></th>\n",
       "    </tr>\n",
       "  </thead>\n",
       "  <tbody>\n",
       "    <tr>\n",
       "      <th>city scrape</th>\n",
       "      <td>8640</td>\n",
       "    </tr>\n",
       "    <tr>\n",
       "      <th>previous scrape</th>\n",
       "      <td>807</td>\n",
       "    </tr>\n",
       "  </tbody>\n",
       "</table>\n",
       "</div>"
      ],
      "text/plain": [
       "                 frequency\n",
       "fuente                    \n",
       "city scrape           8640\n",
       "previous scrape        807"
      ]
     },
     "execution_count": 6,
     "metadata": {},
     "output_type": "execute_result"
    }
   ],
   "source": [
    "table1= freq_tbl(data['fuente'])\n",
    "table2= table1.drop(['percentage', 'cumulative_perc'], axis=1)\n",
    "filtro=table2[table2['frequency']>1]\n",
    "filtro_index= filtro.set_index('fuente')\n",
    "filtro_index"
   ]
  },
  {
   "cell_type": "code",
   "execution_count": 7,
   "metadata": {},
   "outputs": [
    {
     "data": {
      "text/plain": [
       "Text(0, 0.5, 'Frecuencia')"
      ]
     },
     "execution_count": 7,
     "metadata": {},
     "output_type": "execute_result"
    },
    {
     "data": {
      "image/png": "[encoded data removed]",
      "text/plain": [
       "<Figure size 1000x400 with 1 Axes>"
      ]
     },
     "metadata": {},
     "output_type": "display_data"
    }
   ],
   "source": [
    "filtro_index.plot(kind = 'bar', width=0.8, figsize=(10,4), color=\"skyblue\")\n",
    "plt.title('Fuente de datos')\n",
    "plt.xlabel('Source')\n",
    "plt.ylabel(\"Frecuencia\")"
   ]
  },
  {
   "cell_type": "markdown",
   "metadata": {},
   "source": [
    "__2) host response time__"
   ]
  },
  {
   "cell_type": "code",
   "execution_count": 8,
   "metadata": {},
   "outputs": [
    {
     "data": {
      "text/html": [
       "<div>\n",
       "<style scoped>\n",
       "    .dataframe tbody tr th:only-of-type {\n",
       "        vertical-align: middle;\n",
       "    }\n",
       "\n",
       "    .dataframe tbody tr th {\n",
       "        vertical-align: top;\n",
       "    }\n",
       "\n",
       "    .dataframe thead th {\n",
       "        text-align: right;\n",
       "    }\n",
       "</style>\n",
       "<table border=\"1\" class=\"dataframe\">\n",
       "  <thead>\n",
       "    <tr style=\"text-align: right;\">\n",
       "      <th></th>\n",
       "      <th>frequency</th>\n",
       "    </tr>\n",
       "    <tr>\n",
       "      <th>tiempo_respuesta_host</th>\n",
       "      <th></th>\n",
       "    </tr>\n",
       "  </thead>\n",
       "  <tbody>\n",
       "    <tr>\n",
       "      <th>within an hour</th>\n",
       "      <td>6909</td>\n",
       "    </tr>\n",
       "    <tr>\n",
       "      <th>within a few hours</th>\n",
       "      <td>1045</td>\n",
       "    </tr>\n",
       "    <tr>\n",
       "      <th>No mentioned</th>\n",
       "      <td>643</td>\n",
       "    </tr>\n",
       "    <tr>\n",
       "      <th>within a day</th>\n",
       "      <td>502</td>\n",
       "    </tr>\n",
       "    <tr>\n",
       "      <th>a few days or more</th>\n",
       "      <td>348</td>\n",
       "    </tr>\n",
       "  </tbody>\n",
       "</table>\n",
       "</div>"
      ],
      "text/plain": [
       "                       frequency\n",
       "tiempo_respuesta_host           \n",
       "within an hour              6909\n",
       "within a few hours          1045\n",
       "No mentioned                 643\n",
       "within a day                 502\n",
       "a few days or more           348"
      ]
     },
     "execution_count": 8,
     "metadata": {},
     "output_type": "execute_result"
    }
   ],
   "source": [
    "table1= freq_tbl(data['tiempo_respuesta_host'])\n",
    "table2= table1.drop(['percentage', 'cumulative_perc'], axis=1)\n",
    "filtro=table2[table2['frequency']>1]\n",
    "filtro_index= filtro.set_index('tiempo_respuesta_host')\n",
    "filtro_index"
   ]
  },
  {
   "cell_type": "code",
   "execution_count": 9,
   "metadata": {},
   "outputs": [
    {
     "data": {
      "text/plain": [
       "Text(0, 0.5, 'Frecuencia')"
      ]
     },
     "execution_count": 9,
     "metadata": {},
     "output_type": "execute_result"
    },
    {
     "data": {
      "image/png": "[encoded data removed]",
      "text/plain": [
       "<Figure size 1000x400 with 1 Axes>"
      ]
     },
     "metadata": {},
     "output_type": "display_data"
    }
   ],
   "source": [
    "filtro_index.plot(kind = 'bar', width=0.8, figsize=(10,4), color=\"gray\")\n",
    "plt.title('Fuente de datos')\n",
    "plt.xlabel('tiempo_respuesta_host')\n",
    "plt.ylabel(\"Frecuencia\")"
   ]
  },
  {
   "cell_type": "markdown",
   "metadata": {},
   "source": [
    "__3) host is superhost__"
   ]
  },
  {
   "cell_type": "code",
   "execution_count": 10,
   "metadata": {},
   "outputs": [
    {
     "data": {
      "text/html": [
       "<div>\n",
       "<style scoped>\n",
       "    .dataframe tbody tr th:only-of-type {\n",
       "        vertical-align: middle;\n",
       "    }\n",
       "\n",
       "    .dataframe tbody tr th {\n",
       "        vertical-align: top;\n",
       "    }\n",
       "\n",
       "    .dataframe thead th {\n",
       "        text-align: right;\n",
       "    }\n",
       "</style>\n",
       "<table border=\"1\" class=\"dataframe\">\n",
       "  <thead>\n",
       "    <tr style=\"text-align: right;\">\n",
       "      <th></th>\n",
       "      <th>frequency</th>\n",
       "    </tr>\n",
       "    <tr>\n",
       "      <th>host_is_superhost</th>\n",
       "      <th></th>\n",
       "    </tr>\n",
       "  </thead>\n",
       "  <tbody>\n",
       "    <tr>\n",
       "      <th>f</th>\n",
       "      <td>6578</td>\n",
       "    </tr>\n",
       "    <tr>\n",
       "      <th>t</th>\n",
       "      <td>2525</td>\n",
       "    </tr>\n",
       "    <tr>\n",
       "      <th>No mencionado</th>\n",
       "      <td>344</td>\n",
       "    </tr>\n",
       "  </tbody>\n",
       "</table>\n",
       "</div>"
      ],
      "text/plain": [
       "                   frequency\n",
       "host_is_superhost           \n",
       "f                       6578\n",
       "t                       2525\n",
       "No mencionado            344"
      ]
     },
     "execution_count": 10,
     "metadata": {},
     "output_type": "execute_result"
    }
   ],
   "source": [
    "table1= freq_tbl(data['host_is_superhost'])\n",
    "table2= table1.drop(['percentage', 'cumulative_perc'], axis=1)\n",
    "filtro=table2[table2['frequency']>100]\n",
    "filtro_index= filtro.set_index('host_is_superhost')\n",
    "filtro_index"
   ]
  },
  {
   "cell_type": "code",
   "execution_count": 11,
   "metadata": {},
   "outputs": [
    {
     "data": {
      "text/plain": [
       "<Axes: ylabel='frequency'>"
      ]
     },
     "execution_count": 11,
     "metadata": {},
     "output_type": "execute_result"
    },
    {
     "data": {
      "image/png": "[encoded data removed]",
      "text/plain": [
       "<Figure size 1000x500 with 1 Axes>"
      ]
     },
     "metadata": {},
     "output_type": "display_data"
    }
   ],
   "source": [
    "filtro_index[\"frequency\"].plot(kind=\"pie\", figsize=(10,5), shadow=True, autopct=\"%0.1f %%\", colors=['red', 'green', 'gray'])"
   ]
  },
  {
   "cell_type": "markdown",
   "metadata": {},
   "source": [
    "__4) neighbourhood group cleansed__"
   ]
  },
  {
   "cell_type": "code",
   "execution_count": 12,
   "metadata": {},
   "outputs": [
    {
     "data": {
      "text/html": [
       "<div>\n",
       "<style scoped>\n",
       "    .dataframe tbody tr th:only-of-type {\n",
       "        vertical-align: middle;\n",
       "    }\n",
       "\n",
       "    .dataframe tbody tr th {\n",
       "        vertical-align: top;\n",
       "    }\n",
       "\n",
       "    .dataframe thead th {\n",
       "        text-align: right;\n",
       "    }\n",
       "</style>\n",
       "<table border=\"1\" class=\"dataframe\">\n",
       "  <thead>\n",
       "    <tr style=\"text-align: right;\">\n",
       "      <th></th>\n",
       "      <th>frequency</th>\n",
       "    </tr>\n",
       "    <tr>\n",
       "      <th>grupo_vecindario_limpiado</th>\n",
       "      <th></th>\n",
       "    </tr>\n",
       "  </thead>\n",
       "  <tbody>\n",
       "    <tr>\n",
       "      <th>POBLATS MARITIMS</th>\n",
       "      <td>1805</td>\n",
       "    </tr>\n",
       "    <tr>\n",
       "      <th>CIUTAT VELLA</th>\n",
       "      <td>1570</td>\n",
       "    </tr>\n",
       "    <tr>\n",
       "      <th>CAMINS AL GRAU</th>\n",
       "      <td>862</td>\n",
       "    </tr>\n",
       "    <tr>\n",
       "      <th>QUATRE CARRERES</th>\n",
       "      <td>809</td>\n",
       "    </tr>\n",
       "    <tr>\n",
       "      <th>L'EIXAMPLE</th>\n",
       "      <td>794</td>\n",
       "    </tr>\n",
       "    <tr>\n",
       "      <th>EXTRAMURS</th>\n",
       "      <td>724</td>\n",
       "    </tr>\n",
       "    <tr>\n",
       "      <th>LA SAIDIA</th>\n",
       "      <td>533</td>\n",
       "    </tr>\n",
       "    <tr>\n",
       "      <th>ALGIROS</th>\n",
       "      <td>406</td>\n",
       "    </tr>\n",
       "    <tr>\n",
       "      <th>JESUS</th>\n",
       "      <td>299</td>\n",
       "    </tr>\n",
       "    <tr>\n",
       "      <th>L'OLIVERETA</th>\n",
       "      <td>294</td>\n",
       "    </tr>\n",
       "    <tr>\n",
       "      <th>PATRAIX</th>\n",
       "      <td>217</td>\n",
       "    </tr>\n",
       "    <tr>\n",
       "      <th>BENICALAP</th>\n",
       "      <td>204</td>\n",
       "    </tr>\n",
       "    <tr>\n",
       "      <th>RASCANYA</th>\n",
       "      <td>196</td>\n",
       "    </tr>\n",
       "    <tr>\n",
       "      <th>POBLATS DEL SUD</th>\n",
       "      <td>194</td>\n",
       "    </tr>\n",
       "    <tr>\n",
       "      <th>EL PLA DEL REAL</th>\n",
       "      <td>191</td>\n",
       "    </tr>\n",
       "    <tr>\n",
       "      <th>CAMPANAR</th>\n",
       "      <td>147</td>\n",
       "    </tr>\n",
       "    <tr>\n",
       "      <th>BENIMACLET</th>\n",
       "      <td>142</td>\n",
       "    </tr>\n",
       "    <tr>\n",
       "      <th>POBLATS DE L'OEST</th>\n",
       "      <td>48</td>\n",
       "    </tr>\n",
       "    <tr>\n",
       "      <th>POBLATS DEL NORD</th>\n",
       "      <td>12</td>\n",
       "    </tr>\n",
       "  </tbody>\n",
       "</table>\n",
       "</div>"
      ],
      "text/plain": [
       "                           frequency\n",
       "grupo_vecindario_limpiado           \n",
       "POBLATS MARITIMS                1805\n",
       "CIUTAT VELLA                    1570\n",
       "CAMINS AL GRAU                   862\n",
       "QUATRE CARRERES                  809\n",
       "L'EIXAMPLE                       794\n",
       "EXTRAMURS                        724\n",
       "LA SAIDIA                        533\n",
       "ALGIROS                          406\n",
       "JESUS                            299\n",
       "L'OLIVERETA                      294\n",
       "PATRAIX                          217\n",
       "BENICALAP                        204\n",
       "RASCANYA                         196\n",
       "POBLATS DEL SUD                  194\n",
       "EL PLA DEL REAL                  191\n",
       "CAMPANAR                         147\n",
       "BENIMACLET                       142\n",
       "POBLATS DE L'OEST                 48\n",
       "POBLATS DEL NORD                  12"
      ]
     },
     "execution_count": 12,
     "metadata": {},
     "output_type": "execute_result"
    }
   ],
   "source": [
    "table1= freq_tbl(data['grupo_vecindario_limpiado'])\n",
    "table2= table1.drop(['percentage', 'cumulative_perc'], axis=1)\n",
    "filtro=table2[table2['frequency']>1]\n",
    "filtro_index= filtro.set_index('grupo_vecindario_limpiado')\n",
    "filtro_index"
   ]
  },
  {
   "cell_type": "code",
   "execution_count": 13,
   "metadata": {},
   "outputs": [
    {
     "data": {
      "text/plain": [
       "Text(0, 0.5, 'Frecuencia')"
      ]
     },
     "execution_count": 13,
     "metadata": {},
     "output_type": "execute_result"
    },
    {
     "data": {
      "image/png": "[encoded data removed]",
      "text/plain": [
       "<Figure size 1000x400 with 1 Axes>"
      ]
     },
     "metadata": {},
     "output_type": "display_data"
    }
   ],
   "source": [
    "filtro_index.plot(kind = 'bar', width=0.8, figsize=(10,4), color=\"orange\")\n",
    "plt.title('Fuente de datos')\n",
    "plt.xlabel('grupo_vecindario_limpiado')\n",
    "plt.ylabel(\"Frecuencia\")"
   ]
  },
  {
   "cell_type": "markdown",
   "metadata": {},
   "source": [
    "__5) room type__"
   ]
  },
  {
   "cell_type": "code",
   "execution_count": 14,
   "metadata": {},
   "outputs": [
    {
     "data": {
      "text/html": [
       "<div>\n",
       "<style scoped>\n",
       "    .dataframe tbody tr th:only-of-type {\n",
       "        vertical-align: middle;\n",
       "    }\n",
       "\n",
       "    .dataframe tbody tr th {\n",
       "        vertical-align: top;\n",
       "    }\n",
       "\n",
       "    .dataframe thead th {\n",
       "        text-align: right;\n",
       "    }\n",
       "</style>\n",
       "<table border=\"1\" class=\"dataframe\">\n",
       "  <thead>\n",
       "    <tr style=\"text-align: right;\">\n",
       "      <th></th>\n",
       "      <th>frequency</th>\n",
       "    </tr>\n",
       "    <tr>\n",
       "      <th>tipo_habitación</th>\n",
       "      <th></th>\n",
       "    </tr>\n",
       "  </thead>\n",
       "  <tbody>\n",
       "    <tr>\n",
       "      <th>Entire home/apt</th>\n",
       "      <td>6721</td>\n",
       "    </tr>\n",
       "    <tr>\n",
       "      <th>Private room</th>\n",
       "      <td>2659</td>\n",
       "    </tr>\n",
       "    <tr>\n",
       "      <th>Shared room</th>\n",
       "      <td>53</td>\n",
       "    </tr>\n",
       "    <tr>\n",
       "      <th>Hotel room</th>\n",
       "      <td>14</td>\n",
       "    </tr>\n",
       "  </tbody>\n",
       "</table>\n",
       "</div>"
      ],
      "text/plain": [
       "                 frequency\n",
       "tipo_habitación           \n",
       "Entire home/apt       6721\n",
       "Private room          2659\n",
       "Shared room             53\n",
       "Hotel room              14"
      ]
     },
     "execution_count": 14,
     "metadata": {},
     "output_type": "execute_result"
    }
   ],
   "source": [
    "table1= freq_tbl(data['tipo_habitación'])\n",
    "table2= table1.drop(['percentage', 'cumulative_perc'], axis=1)\n",
    "filtro=table2[table2['frequency']>1]\n",
    "filtro_index= filtro.set_index('tipo_habitación')\n",
    "filtro_index"
   ]
  },
  {
   "cell_type": "code",
   "execution_count": 16,
   "metadata": {},
   "outputs": [
    {
     "data": {
      "text/plain": [
       "Text(0, 0.5, 'Frecuencia')"
      ]
     },
     "execution_count": 16,
     "metadata": {},
     "output_type": "execute_result"
    },
    {
     "data": {
      "image/png": "[encoded data removed]",
      "text/plain": [
       "<Figure size 1000x400 with 1 Axes>"
      ]
     },
     "metadata": {},
     "output_type": "display_data"
    }
   ],
   "source": [
    "filtro_index.plot(kind = 'bar', width=0.8, figsize=(10,4), color=\"brown\")\n",
    "plt.title('Fuente de datos')\n",
    "plt.xlabel('tipo_habitación')\n",
    "plt.ylabel(\"Frecuencia\")"
   ]
  },
  {
   "cell_type": "markdown",
   "metadata": {},
   "source": [
    "__6) reservable al instante__"
   ]
  },
  {
   "cell_type": "code",
   "execution_count": 17,
   "metadata": {},
   "outputs": [
    {
     "data": {
      "text/html": [
       "<div>\n",
       "<style scoped>\n",
       "    .dataframe tbody tr th:only-of-type {\n",
       "        vertical-align: middle;\n",
       "    }\n",
       "\n",
       "    .dataframe tbody tr th {\n",
       "        vertical-align: top;\n",
       "    }\n",
       "\n",
       "    .dataframe thead th {\n",
       "        text-align: right;\n",
       "    }\n",
       "</style>\n",
       "<table border=\"1\" class=\"dataframe\">\n",
       "  <thead>\n",
       "    <tr style=\"text-align: right;\">\n",
       "      <th></th>\n",
       "      <th>frequency</th>\n",
       "    </tr>\n",
       "    <tr>\n",
       "      <th>reservable_instantáneamente</th>\n",
       "      <th></th>\n",
       "    </tr>\n",
       "  </thead>\n",
       "  <tbody>\n",
       "    <tr>\n",
       "      <th>f</th>\n",
       "      <td>5462</td>\n",
       "    </tr>\n",
       "    <tr>\n",
       "      <th>t</th>\n",
       "      <td>3985</td>\n",
       "    </tr>\n",
       "  </tbody>\n",
       "</table>\n",
       "</div>"
      ],
      "text/plain": [
       "                             frequency\n",
       "reservable_instantáneamente           \n",
       "f                                 5462\n",
       "t                                 3985"
      ]
     },
     "execution_count": 17,
     "metadata": {},
     "output_type": "execute_result"
    }
   ],
   "source": [
    "table1= freq_tbl(data['reservable_instantáneamente'])\n",
    "table2= table1.drop(['percentage', 'cumulative_perc'], axis=1)\n",
    "filtro=table2[table2['frequency']>1]\n",
    "filtro_index= filtro.set_index('reservable_instantáneamente')\n",
    "filtro_index"
   ]
  },
  {
   "cell_type": "code",
   "execution_count": 18,
   "metadata": {},
   "outputs": [
    {
     "data": {
      "text/plain": [
       "<Axes: ylabel='frequency'>"
      ]
     },
     "execution_count": 18,
     "metadata": {},
     "output_type": "execute_result"
    },
    {
     "data": {
      "image/png": "[encoded data removed]",
      "text/plain": [
       "<Figure size 1000x500 with 1 Axes>"
      ]
     },
     "metadata": {},
     "output_type": "display_data"
    }
   ],
   "source": [
    "filtro_index[\"frequency\"].plot(kind=\"pie\", figsize=(10,5), shadow=True, autopct=\"%0.1f %%\", colors=['red', 'green'])"
   ]
  },
  {
   "cell_type": "markdown",
   "metadata": {},
   "source": [
    "__7) tipo de propiedad__ "
   ]
  },
  {
   "cell_type": "code",
   "execution_count": 20,
   "metadata": {},
   "outputs": [
    {
     "data": {
      "text/html": [
       "<div>\n",
       "<style scoped>\n",
       "    .dataframe tbody tr th:only-of-type {\n",
       "        vertical-align: middle;\n",
       "    }\n",
       "\n",
       "    .dataframe tbody tr th {\n",
       "        vertical-align: top;\n",
       "    }\n",
       "\n",
       "    .dataframe thead th {\n",
       "        text-align: right;\n",
       "    }\n",
       "</style>\n",
       "<table border=\"1\" class=\"dataframe\">\n",
       "  <thead>\n",
       "    <tr style=\"text-align: right;\">\n",
       "      <th></th>\n",
       "      <th>frequency</th>\n",
       "    </tr>\n",
       "    <tr>\n",
       "      <th>tipo_propiedad</th>\n",
       "      <th></th>\n",
       "    </tr>\n",
       "  </thead>\n",
       "  <tbody>\n",
       "    <tr>\n",
       "      <th>Entire rental unit</th>\n",
       "      <td>5446</td>\n",
       "    </tr>\n",
       "    <tr>\n",
       "      <th>Private room in rental unit</th>\n",
       "      <td>2064</td>\n",
       "    </tr>\n",
       "    <tr>\n",
       "      <th>Entire loft</th>\n",
       "      <td>533</td>\n",
       "    </tr>\n",
       "    <tr>\n",
       "      <th>Entire home</th>\n",
       "      <td>240</td>\n",
       "    </tr>\n",
       "    <tr>\n",
       "      <th>Entire condo</th>\n",
       "      <td>224</td>\n",
       "    </tr>\n",
       "    <tr>\n",
       "      <th>Private room in home</th>\n",
       "      <td>175</td>\n",
       "    </tr>\n",
       "    <tr>\n",
       "      <th>Private room in condo</th>\n",
       "      <td>127</td>\n",
       "    </tr>\n",
       "    <tr>\n",
       "      <th>Entire serviced apartment</th>\n",
       "      <td>105</td>\n",
       "    </tr>\n",
       "    <tr>\n",
       "      <th>Private room in bed and breakfast</th>\n",
       "      <td>81</td>\n",
       "    </tr>\n",
       "    <tr>\n",
       "      <th>Private room in casa particular</th>\n",
       "      <td>64</td>\n",
       "    </tr>\n",
       "    <tr>\n",
       "      <th>Entire vacation home</th>\n",
       "      <td>48</td>\n",
       "    </tr>\n",
       "    <tr>\n",
       "      <th>Room in hotel</th>\n",
       "      <td>45</td>\n",
       "    </tr>\n",
       "    <tr>\n",
       "      <th>Room in boutique hotel</th>\n",
       "      <td>39</td>\n",
       "    </tr>\n",
       "    <tr>\n",
       "      <th>Entire townhouse</th>\n",
       "      <td>36</td>\n",
       "    </tr>\n",
       "    <tr>\n",
       "      <th>Room in aparthotel</th>\n",
       "      <td>26</td>\n",
       "    </tr>\n",
       "    <tr>\n",
       "      <th>Private room in hostel</th>\n",
       "      <td>25</td>\n",
       "    </tr>\n",
       "    <tr>\n",
       "      <th>Shared room in rental unit</th>\n",
       "      <td>22</td>\n",
       "    </tr>\n",
       "    <tr>\n",
       "      <th>Entire guest suite</th>\n",
       "      <td>16</td>\n",
       "    </tr>\n",
       "    <tr>\n",
       "      <th>Shared room in hotel</th>\n",
       "      <td>16</td>\n",
       "    </tr>\n",
       "    <tr>\n",
       "      <th>Boat</th>\n",
       "      <td>15</td>\n",
       "    </tr>\n",
       "    <tr>\n",
       "      <th>Private room in serviced apartment</th>\n",
       "      <td>11</td>\n",
       "    </tr>\n",
       "  </tbody>\n",
       "</table>\n",
       "</div>"
      ],
      "text/plain": [
       "                                    frequency\n",
       "tipo_propiedad                               \n",
       "Entire rental unit                       5446\n",
       "Private room in rental unit              2064\n",
       "Entire loft                               533\n",
       "Entire home                               240\n",
       "Entire condo                              224\n",
       "Private room in home                      175\n",
       "Private room in condo                     127\n",
       "Entire serviced apartment                 105\n",
       "Private room in bed and breakfast          81\n",
       "Private room in casa particular            64\n",
       "Entire vacation home                       48\n",
       "Room in hotel                              45\n",
       "Room in boutique hotel                     39\n",
       "Entire townhouse                           36\n",
       "Room in aparthotel                         26\n",
       "Private room in hostel                     25\n",
       "Shared room in rental unit                 22\n",
       "Entire guest suite                         16\n",
       "Shared room in hotel                       16\n",
       "Boat                                       15\n",
       "Private room in serviced apartment         11"
      ]
     },
     "execution_count": 20,
     "metadata": {},
     "output_type": "execute_result"
    }
   ],
   "source": [
    "table1= freq_tbl(data['tipo_propiedad'])\n",
    "table2= table1.drop(['percentage', 'cumulative_perc'], axis=1)\n",
    "filtro=table2[table2['frequency']>10]\n",
    "filtro_index= filtro.set_index('tipo_propiedad')\n",
    "filtro_index"
   ]
  },
  {
   "cell_type": "code",
   "execution_count": 22,
   "metadata": {},
   "outputs": [
    {
     "data": {
      "text/plain": [
       "Text(0, 0.5, 'Frecuencia')"
      ]
     },
     "execution_count": 22,
     "metadata": {},
     "output_type": "execute_result"
    },
    {
     "data": {
      "image/png": "[encoded data removed]",
      "text/plain": [
       "<Figure size 1000x400 with 1 Axes>"
      ]
     },
     "metadata": {},
     "output_type": "display_data"
    }
   ],
   "source": [
    "filtro_index.plot(kind = 'bar', width=0.8, figsize=(10,4), color=\"blue\")\n",
    "plt.title('Fuente de datos')\n",
    "plt.xlabel('tipo_propiedad')\n",
    "plt.ylabel(\"Frecuencia\")"
   ]
  },
  {
   "cell_type": "markdown",
   "metadata": {},
   "source": [
    "__8) tiene_disponibilidad__"
   ]
  },
  {
   "cell_type": "code",
   "execution_count": 37,
   "metadata": {},
   "outputs": [
    {
     "data": {
      "text/html": [
       "<div>\n",
       "<style scoped>\n",
       "    .dataframe tbody tr th:only-of-type {\n",
       "        vertical-align: middle;\n",
       "    }\n",
       "\n",
       "    .dataframe tbody tr th {\n",
       "        vertical-align: top;\n",
       "    }\n",
       "\n",
       "    .dataframe thead th {\n",
       "        text-align: right;\n",
       "    }\n",
       "</style>\n",
       "<table border=\"1\" class=\"dataframe\">\n",
       "  <thead>\n",
       "    <tr style=\"text-align: right;\">\n",
       "      <th></th>\n",
       "      <th>frequency</th>\n",
       "    </tr>\n",
       "    <tr>\n",
       "      <th>tiene_disponibilidad</th>\n",
       "      <th></th>\n",
       "    </tr>\n",
       "  </thead>\n",
       "  <tbody>\n",
       "    <tr>\n",
       "      <th>t</th>\n",
       "      <td>9244</td>\n",
       "    </tr>\n",
       "    <tr>\n",
       "      <th>No hay detalles</th>\n",
       "      <td>203</td>\n",
       "    </tr>\n",
       "  </tbody>\n",
       "</table>\n",
       "</div>"
      ],
      "text/plain": [
       "                      frequency\n",
       "tiene_disponibilidad           \n",
       "t                          9244\n",
       "No hay detalles             203"
      ]
     },
     "execution_count": 37,
     "metadata": {},
     "output_type": "execute_result"
    }
   ],
   "source": [
    "table1= freq_tbl(data['tiene_disponibilidad'])\n",
    "table2= table1.drop(['percentage', 'cumulative_perc'], axis=1)\n",
    "filtro=table2[table2['frequency']>1]\n",
    "filtro_index= filtro.set_index('tiene_disponibilidad')\n",
    "filtro_index"
   ]
  },
  {
   "cell_type": "code",
   "execution_count": 38,
   "metadata": {},
   "outputs": [
    {
     "data": {
      "text/plain": [
       "<Axes: ylabel='frequency'>"
      ]
     },
     "execution_count": 38,
     "metadata": {},
     "output_type": "execute_result"
    },
    {
     "data": {
      "image/png": "[encoded data removed]",
      "text/plain": [
       "<Figure size 1000x500 with 1 Axes>"
      ]
     },
     "metadata": {},
     "output_type": "display_data"
    }
   ],
   "source": [
    "filtro_index[\"frequency\"].plot(kind=\"pie\", figsize=(10,5), shadow=True, autopct=\"%0.1f %%\", colors=['green', 'gray'])"
   ]
  },
  {
   "cell_type": "markdown",
   "metadata": {},
   "source": [
    "__9) accomodates__"
   ]
  },
  {
   "cell_type": "code",
   "execution_count": 41,
   "metadata": {},
   "outputs": [
    {
     "data": {
      "text/html": [
       "<div>\n",
       "<style scoped>\n",
       "    .dataframe tbody tr th:only-of-type {\n",
       "        vertical-align: middle;\n",
       "    }\n",
       "\n",
       "    .dataframe tbody tr th {\n",
       "        vertical-align: top;\n",
       "    }\n",
       "\n",
       "    .dataframe thead th {\n",
       "        text-align: right;\n",
       "    }\n",
       "</style>\n",
       "<table border=\"1\" class=\"dataframe\">\n",
       "  <thead>\n",
       "    <tr style=\"text-align: right;\">\n",
       "      <th></th>\n",
       "      <th>frequency</th>\n",
       "    </tr>\n",
       "    <tr>\n",
       "      <th>se adapta</th>\n",
       "      <th></th>\n",
       "    </tr>\n",
       "  </thead>\n",
       "  <tbody>\n",
       "    <tr>\n",
       "      <th>2.0</th>\n",
       "      <td>2916</td>\n",
       "    </tr>\n",
       "    <tr>\n",
       "      <th>4.0</th>\n",
       "      <td>2602</td>\n",
       "    </tr>\n",
       "    <tr>\n",
       "      <th>1.0</th>\n",
       "      <td>1033</td>\n",
       "    </tr>\n",
       "    <tr>\n",
       "      <th>6.0</th>\n",
       "      <td>938</td>\n",
       "    </tr>\n",
       "    <tr>\n",
       "      <th>3.0</th>\n",
       "      <td>816</td>\n",
       "    </tr>\n",
       "    <tr>\n",
       "      <th>5.0</th>\n",
       "      <td>682</td>\n",
       "    </tr>\n",
       "    <tr>\n",
       "      <th>3.2</th>\n",
       "      <td>348</td>\n",
       "    </tr>\n",
       "    <tr>\n",
       "      <th>7.0</th>\n",
       "      <td>112</td>\n",
       "    </tr>\n",
       "  </tbody>\n",
       "</table>\n",
       "</div>"
      ],
      "text/plain": [
       "           frequency\n",
       "se adapta           \n",
       "2.0             2916\n",
       "4.0             2602\n",
       "1.0             1033\n",
       "6.0              938\n",
       "3.0              816\n",
       "5.0              682\n",
       "3.2              348\n",
       "7.0              112"
      ]
     },
     "execution_count": 41,
     "metadata": {},
     "output_type": "execute_result"
    }
   ],
   "source": [
    "table1 = data['se adapta'].value_counts().reset_index()\n",
    "table1.columns = ['se adapta', 'frequency']\n",
    "filtro = table1[table1['frequency'] >1]\n",
    "filtro_index = filtro.set_index('se adapta')\n",
    "filtro_index"
   ]
  },
  {
   "cell_type": "code",
   "execution_count": 44,
   "metadata": {},
   "outputs": [
    {
     "data": {
      "text/plain": [
       "Text(0, 0.5, 'Frecuencia')"
      ]
     },
     "execution_count": 44,
     "metadata": {},
     "output_type": "execute_result"
    },
    {
     "data": {
      "image/png": "[encoded data removed]",
      "text/plain": [
       "<Figure size 1000x400 with 1 Axes>"
      ]
     },
     "metadata": {},
     "output_type": "display_data"
    }
   ],
   "source": [
    "filtro_index.plot(kind = 'bar', width=0.8, figsize=(10,4), color=\"gold\")\n",
    "plt.title('Fuente de datos')\n",
    "plt.xlabel('accomodates')\n",
    "plt.ylabel(\"Frecuencia\")"
   ]
  },
  {
   "cell_type": "markdown",
   "metadata": {},
   "source": [
    "__10) bathrooms__"
   ]
  },
  {
   "cell_type": "code",
   "execution_count": 45,
   "metadata": {},
   "outputs": [
    {
     "data": {
      "text/html": [
       "<div>\n",
       "<style scoped>\n",
       "    .dataframe tbody tr th:only-of-type {\n",
       "        vertical-align: middle;\n",
       "    }\n",
       "\n",
       "    .dataframe tbody tr th {\n",
       "        vertical-align: top;\n",
       "    }\n",
       "\n",
       "    .dataframe thead th {\n",
       "        text-align: right;\n",
       "    }\n",
       "</style>\n",
       "<table border=\"1\" class=\"dataframe\">\n",
       "  <thead>\n",
       "    <tr style=\"text-align: right;\">\n",
       "      <th></th>\n",
       "      <th>frequency</th>\n",
       "    </tr>\n",
       "    <tr>\n",
       "      <th>baños</th>\n",
       "      <th></th>\n",
       "    </tr>\n",
       "  </thead>\n",
       "  <tbody>\n",
       "    <tr>\n",
       "      <th>1</th>\n",
       "      <td>6035</td>\n",
       "    </tr>\n",
       "    <tr>\n",
       "      <th>2</th>\n",
       "      <td>1636</td>\n",
       "    </tr>\n",
       "    <tr>\n",
       "      <th>Sin info</th>\n",
       "      <td>816</td>\n",
       "    </tr>\n",
       "    <tr>\n",
       "      <th>1.5</th>\n",
       "      <td>554</td>\n",
       "    </tr>\n",
       "    <tr>\n",
       "      <th>0.5</th>\n",
       "      <td>111</td>\n",
       "    </tr>\n",
       "    <tr>\n",
       "      <th>3</th>\n",
       "      <td>95</td>\n",
       "    </tr>\n",
       "    <tr>\n",
       "      <th>2.5</th>\n",
       "      <td>81</td>\n",
       "    </tr>\n",
       "    <tr>\n",
       "      <th>0</th>\n",
       "      <td>49</td>\n",
       "    </tr>\n",
       "    <tr>\n",
       "      <th>4</th>\n",
       "      <td>28</td>\n",
       "    </tr>\n",
       "    <tr>\n",
       "      <th>3.5</th>\n",
       "      <td>17</td>\n",
       "    </tr>\n",
       "    <tr>\n",
       "      <th>5</th>\n",
       "      <td>11</td>\n",
       "    </tr>\n",
       "    <tr>\n",
       "      <th>7</th>\n",
       "      <td>5</td>\n",
       "    </tr>\n",
       "    <tr>\n",
       "      <th>6</th>\n",
       "      <td>4</td>\n",
       "    </tr>\n",
       "    <tr>\n",
       "      <th>4.5</th>\n",
       "      <td>3</td>\n",
       "    </tr>\n",
       "  </tbody>\n",
       "</table>\n",
       "</div>"
      ],
      "text/plain": [
       "          frequency\n",
       "baños              \n",
       "1              6035\n",
       "2              1636\n",
       "Sin info        816\n",
       "1.5             554\n",
       "0.5             111\n",
       "3                95\n",
       "2.5              81\n",
       "0                49\n",
       "4                28\n",
       "3.5              17\n",
       "5                11\n",
       "7                 5\n",
       "6                 4\n",
       "4.5               3"
      ]
     },
     "execution_count": 45,
     "metadata": {},
     "output_type": "execute_result"
    }
   ],
   "source": [
    "table1 = data['baños'].value_counts().reset_index()\n",
    "table1.columns = ['baños', 'frequency']\n",
    "filtro = table1[table1['frequency'] >1]\n",
    "filtro_index = filtro.set_index('baños')\n",
    "filtro_index"
   ]
  },
  {
   "cell_type": "code",
   "execution_count": 46,
   "metadata": {},
   "outputs": [
    {
     "data": {
      "text/plain": [
       "<Axes: xlabel='baños'>"
      ]
     },
     "execution_count": 46,
     "metadata": {},
     "output_type": "execute_result"
    },
    {
     "data": {
      "image/png": "[encoded data removed]",
      "text/plain": [
       "<Figure size 1000x400 with 1 Axes>"
      ]
     },
     "metadata": {},
     "output_type": "display_data"
    }
   ],
   "source": [
    "filtro_index.plot(kind='area',figsize=(10,4), alpha=1)"
   ]
  },
  {
   "cell_type": "markdown",
   "metadata": {},
   "source": [
    "__11) bedroom__"
   ]
  },
  {
   "cell_type": "code",
   "execution_count": 48,
   "metadata": {},
   "outputs": [
    {
     "data": {
      "text/html": [
       "<div>\n",
       "<style scoped>\n",
       "    .dataframe tbody tr th:only-of-type {\n",
       "        vertical-align: middle;\n",
       "    }\n",
       "\n",
       "    .dataframe tbody tr th {\n",
       "        vertical-align: top;\n",
       "    }\n",
       "\n",
       "    .dataframe thead th {\n",
       "        text-align: right;\n",
       "    }\n",
       "</style>\n",
       "<table border=\"1\" class=\"dataframe\">\n",
       "  <thead>\n",
       "    <tr style=\"text-align: right;\">\n",
       "      <th></th>\n",
       "      <th>frequency</th>\n",
       "    </tr>\n",
       "    <tr>\n",
       "      <th>dormitorios</th>\n",
       "      <th></th>\n",
       "    </tr>\n",
       "  </thead>\n",
       "  <tbody>\n",
       "    <tr>\n",
       "      <th>1</th>\n",
       "      <td>4912</td>\n",
       "    </tr>\n",
       "    <tr>\n",
       "      <th>2</th>\n",
       "      <td>2098</td>\n",
       "    </tr>\n",
       "    <tr>\n",
       "      <th>3</th>\n",
       "      <td>1191</td>\n",
       "    </tr>\n",
       "    <tr>\n",
       "      <th>0</th>\n",
       "      <td>582</td>\n",
       "    </tr>\n",
       "    <tr>\n",
       "      <th>4</th>\n",
       "      <td>293</td>\n",
       "    </tr>\n",
       "    <tr>\n",
       "      <th>Sin info</th>\n",
       "      <td>282</td>\n",
       "    </tr>\n",
       "  </tbody>\n",
       "</table>\n",
       "</div>"
      ],
      "text/plain": [
       "             frequency\n",
       "dormitorios           \n",
       "1                 4912\n",
       "2                 2098\n",
       "3                 1191\n",
       "0                  582\n",
       "4                  293\n",
       "Sin info           282"
      ]
     },
     "execution_count": 48,
     "metadata": {},
     "output_type": "execute_result"
    }
   ],
   "source": [
    "table1= freq_tbl(data['dormitorios'])\n",
    "table2= table1.drop(['percentage', 'cumulative_perc'], axis=1)\n",
    "filtro=table2[table2['frequency']>100]\n",
    "filtro_index= filtro.set_index('dormitorios')\n",
    "filtro_index"
   ]
  },
  {
   "cell_type": "code",
   "execution_count": 49,
   "metadata": {},
   "outputs": [
    {
     "data": {
      "text/plain": [
       "<Axes: xlabel='dormitorios'>"
      ]
     },
     "execution_count": 49,
     "metadata": {},
     "output_type": "execute_result"
    },
    {
     "data": {
      "image/png": "[encoded data removed]",
      "text/plain": [
       "<Figure size 1000x400 with 1 Axes>"
      ]
     },
     "metadata": {},
     "output_type": "display_data"
    }
   ],
   "source": [
    "filtro_index.plot(kind='area',figsize=(10,4), alpha=1)"
   ]
  },
  {
   "cell_type": "markdown",
   "metadata": {},
   "source": [
    "__12)beds__"
   ]
  },
  {
   "cell_type": "code",
   "execution_count": 51,
   "metadata": {},
   "outputs": [
    {
     "data": {
      "text/html": [
       "<div>\n",
       "<style scoped>\n",
       "    .dataframe tbody tr th:only-of-type {\n",
       "        vertical-align: middle;\n",
       "    }\n",
       "\n",
       "    .dataframe tbody tr th {\n",
       "        vertical-align: top;\n",
       "    }\n",
       "\n",
       "    .dataframe thead th {\n",
       "        text-align: right;\n",
       "    }\n",
       "</style>\n",
       "<table border=\"1\" class=\"dataframe\">\n",
       "  <thead>\n",
       "    <tr style=\"text-align: right;\">\n",
       "      <th></th>\n",
       "      <th>frequency</th>\n",
       "    </tr>\n",
       "    <tr>\n",
       "      <th>camas</th>\n",
       "      <th></th>\n",
       "    </tr>\n",
       "  </thead>\n",
       "  <tbody>\n",
       "    <tr>\n",
       "      <th>1</th>\n",
       "      <td>3210</td>\n",
       "    </tr>\n",
       "    <tr>\n",
       "      <th>2</th>\n",
       "      <td>2511</td>\n",
       "    </tr>\n",
       "    <tr>\n",
       "      <th>3</th>\n",
       "      <td>1393</td>\n",
       "    </tr>\n",
       "    <tr>\n",
       "      <th>Sin info</th>\n",
       "      <td>813</td>\n",
       "    </tr>\n",
       "    <tr>\n",
       "      <th>4</th>\n",
       "      <td>780</td>\n",
       "    </tr>\n",
       "    <tr>\n",
       "      <th>5</th>\n",
       "      <td>284</td>\n",
       "    </tr>\n",
       "    <tr>\n",
       "      <th>0</th>\n",
       "      <td>229</td>\n",
       "    </tr>\n",
       "    <tr>\n",
       "      <th>6</th>\n",
       "      <td>116</td>\n",
       "    </tr>\n",
       "  </tbody>\n",
       "</table>\n",
       "</div>"
      ],
      "text/plain": [
       "          frequency\n",
       "camas              \n",
       "1              3210\n",
       "2              2511\n",
       "3              1393\n",
       "Sin info        813\n",
       "4               780\n",
       "5               284\n",
       "0               229\n",
       "6               116"
      ]
     },
     "execution_count": 51,
     "metadata": {},
     "output_type": "execute_result"
    }
   ],
   "source": [
    "table1= freq_tbl(data['camas'])\n",
    "table2= table1.drop(['percentage', 'cumulative_perc'], axis=1)\n",
    "filtro=table2[table2['frequency']>100]\n",
    "filtro_index= filtro.set_index('camas')\n",
    "filtro_index"
   ]
  },
  {
   "cell_type": "code",
   "execution_count": 52,
   "metadata": {},
   "outputs": [
    {
     "data": {
      "text/plain": [
       "<Axes: xlabel='camas'>"
      ]
     },
     "execution_count": 52,
     "metadata": {},
     "output_type": "execute_result"
    },
    {
     "data": {
      "image/png": "[encoded data removed]",
      "text/plain": [
       "<Figure size 1000x400 with 1 Axes>"
      ]
     },
     "metadata": {},
     "output_type": "display_data"
    }
   ],
   "source": [
    "filtro_index.plot(kind='area',figsize=(10,4), alpha=1)"
   ]
  },
  {
   "cell_type": "markdown",
   "metadata": {},
   "source": [
    "__13)neighbourhood_cleansed__"
   ]
  },
  {
   "cell_type": "code",
   "execution_count": 54,
   "metadata": {},
   "outputs": [
    {
     "data": {
      "text/html": [
       "<div>\n",
       "<style scoped>\n",
       "    .dataframe tbody tr th:only-of-type {\n",
       "        vertical-align: middle;\n",
       "    }\n",
       "\n",
       "    .dataframe tbody tr th {\n",
       "        vertical-align: top;\n",
       "    }\n",
       "\n",
       "    .dataframe thead th {\n",
       "        text-align: right;\n",
       "    }\n",
       "</style>\n",
       "<table border=\"1\" class=\"dataframe\">\n",
       "  <thead>\n",
       "    <tr style=\"text-align: right;\">\n",
       "      <th></th>\n",
       "      <th>frequency</th>\n",
       "    </tr>\n",
       "    <tr>\n",
       "      <th>barrio_limpio</th>\n",
       "      <th></th>\n",
       "    </tr>\n",
       "  </thead>\n",
       "  <tbody>\n",
       "    <tr>\n",
       "      <th>CABANYAL-CANYAMELAR</th>\n",
       "      <td>1005</td>\n",
       "    </tr>\n",
       "    <tr>\n",
       "      <th>RUSSAFA</th>\n",
       "      <td>646</td>\n",
       "    </tr>\n",
       "    <tr>\n",
       "      <th>AIORA</th>\n",
       "      <td>405</td>\n",
       "    </tr>\n",
       "    <tr>\n",
       "      <th>EL MERCAT</th>\n",
       "      <td>384</td>\n",
       "    </tr>\n",
       "    <tr>\n",
       "      <th>EL CARME</th>\n",
       "      <td>337</td>\n",
       "    </tr>\n",
       "    <tr>\n",
       "      <th>LA MALVA-ROSA</th>\n",
       "      <td>310</td>\n",
       "    </tr>\n",
       "    <tr>\n",
       "      <th>EL GRAU</th>\n",
       "      <td>305</td>\n",
       "    </tr>\n",
       "    <tr>\n",
       "      <th>SANT FRANCESC</th>\n",
       "      <td>288</td>\n",
       "    </tr>\n",
       "    <tr>\n",
       "      <th>MORVEDRE</th>\n",
       "      <td>276</td>\n",
       "    </tr>\n",
       "    <tr>\n",
       "      <th>MONT-OLIVET</th>\n",
       "      <td>265</td>\n",
       "    </tr>\n",
       "    <tr>\n",
       "      <th>LA SEU</th>\n",
       "      <td>243</td>\n",
       "    </tr>\n",
       "    <tr>\n",
       "      <th>ARRANCAPINS</th>\n",
       "      <td>242</td>\n",
       "    </tr>\n",
       "    <tr>\n",
       "      <th>EN CORTS</th>\n",
       "      <td>241</td>\n",
       "    </tr>\n",
       "    <tr>\n",
       "      <th>NOU MOLES</th>\n",
       "      <td>199</td>\n",
       "    </tr>\n",
       "    <tr>\n",
       "      <th>BENICALAP</th>\n",
       "      <td>181</td>\n",
       "    </tr>\n",
       "    <tr>\n",
       "      <th>LA ROQUETA</th>\n",
       "      <td>180</td>\n",
       "    </tr>\n",
       "    <tr>\n",
       "      <th>EL PILAR</th>\n",
       "      <td>174</td>\n",
       "    </tr>\n",
       "    <tr>\n",
       "      <th>EL BOTANIC</th>\n",
       "      <td>159</td>\n",
       "    </tr>\n",
       "    <tr>\n",
       "      <th>LA CREU DEL GRAU</th>\n",
       "      <td>157</td>\n",
       "    </tr>\n",
       "    <tr>\n",
       "      <th>LA RAIOSA</th>\n",
       "      <td>147</td>\n",
       "    </tr>\n",
       "    <tr>\n",
       "      <th>LA XEREA</th>\n",
       "      <td>144</td>\n",
       "    </tr>\n",
       "    <tr>\n",
       "      <th>LA PETXINA</th>\n",
       "      <td>143</td>\n",
       "    </tr>\n",
       "    <tr>\n",
       "      <th>PATRAIX</th>\n",
       "      <td>138</td>\n",
       "    </tr>\n",
       "    <tr>\n",
       "      <th>MESTALLA</th>\n",
       "      <td>129</td>\n",
       "    </tr>\n",
       "    <tr>\n",
       "      <th>BENIMACLET</th>\n",
       "      <td>127</td>\n",
       "    </tr>\n",
       "    <tr>\n",
       "      <th>CIUTAT JARDI</th>\n",
       "      <td>126</td>\n",
       "    </tr>\n",
       "    <tr>\n",
       "      <th>ALBORS</th>\n",
       "      <td>121</td>\n",
       "    </tr>\n",
       "    <tr>\n",
       "      <th>PENYA-ROJA</th>\n",
       "      <td>113</td>\n",
       "    </tr>\n",
       "    <tr>\n",
       "      <th>L'AMISTAT</th>\n",
       "      <td>109</td>\n",
       "    </tr>\n",
       "    <tr>\n",
       "      <th>CIUTAT DE LES ARTS I DE LES CIENCIES</th>\n",
       "      <td>106</td>\n",
       "    </tr>\n",
       "  </tbody>\n",
       "</table>\n",
       "</div>"
      ],
      "text/plain": [
       "                                      frequency\n",
       "barrio_limpio                                  \n",
       "CABANYAL-CANYAMELAR                        1005\n",
       "RUSSAFA                                     646\n",
       "AIORA                                       405\n",
       "EL MERCAT                                   384\n",
       "EL CARME                                    337\n",
       "LA MALVA-ROSA                               310\n",
       "EL GRAU                                     305\n",
       "SANT FRANCESC                               288\n",
       "MORVEDRE                                    276\n",
       "MONT-OLIVET                                 265\n",
       "LA SEU                                      243\n",
       "ARRANCAPINS                                 242\n",
       "EN CORTS                                    241\n",
       "NOU MOLES                                   199\n",
       "BENICALAP                                   181\n",
       "LA ROQUETA                                  180\n",
       "EL PILAR                                    174\n",
       "EL BOTANIC                                  159\n",
       "LA CREU DEL GRAU                            157\n",
       "LA RAIOSA                                   147\n",
       "LA XEREA                                    144\n",
       "LA PETXINA                                  143\n",
       "PATRAIX                                     138\n",
       "MESTALLA                                    129\n",
       "BENIMACLET                                  127\n",
       "CIUTAT JARDI                                126\n",
       "ALBORS                                      121\n",
       "PENYA-ROJA                                  113\n",
       "L'AMISTAT                                   109\n",
       "CIUTAT DE LES ARTS I DE LES CIENCIES        106"
      ]
     },
     "execution_count": 54,
     "metadata": {},
     "output_type": "execute_result"
    }
   ],
   "source": [
    "table1 = data['barrio_limpio'].value_counts().reset_index()\n",
    "table1.columns = ['barrio_limpio', 'frequency']\n",
    "filtro = table1[table1['frequency'] >99]\n",
    "filtro_index = filtro.set_index('barrio_limpio')\n",
    "filtro_index"
   ]
  },
  {
   "cell_type": "code",
   "execution_count": 56,
   "metadata": {},
   "outputs": [
    {
     "data": {
      "text/plain": [
       "<Axes: xlabel='barrio_limpio', ylabel='frequency'>"
      ]
     },
     "execution_count": 56,
     "metadata": {},
     "output_type": "execute_result"
    },
    {
     "data": {
      "image/png": "[encoded data removed]",
      "text/plain": [
       "<Figure size 640x480 with 1 Axes>"
      ]
     },
     "metadata": {},
     "output_type": "display_data"
    }
   ],
   "source": [
    "table1.plot('barrio_limpio', 'frequency',kind=\"scatter\")"
   ]
  },
  {
   "cell_type": "markdown",
   "metadata": {},
   "source": [
    "__14)minimum_nights__"
   ]
  },
  {
   "cell_type": "code",
   "execution_count": 64,
   "metadata": {},
   "outputs": [
    {
     "data": {
      "text/html": [
       "<div>\n",
       "<style scoped>\n",
       "    .dataframe tbody tr th:only-of-type {\n",
       "        vertical-align: middle;\n",
       "    }\n",
       "\n",
       "    .dataframe tbody tr th {\n",
       "        vertical-align: top;\n",
       "    }\n",
       "\n",
       "    .dataframe thead th {\n",
       "        text-align: right;\n",
       "    }\n",
       "</style>\n",
       "<table border=\"1\" class=\"dataframe\">\n",
       "  <thead>\n",
       "    <tr style=\"text-align: right;\">\n",
       "      <th></th>\n",
       "      <th>frequency</th>\n",
       "    </tr>\n",
       "    <tr>\n",
       "      <th>noches_mínimo</th>\n",
       "      <th></th>\n",
       "    </tr>\n",
       "  </thead>\n",
       "  <tbody>\n",
       "    <tr>\n",
       "      <th>1.0</th>\n",
       "      <td>3379</td>\n",
       "    </tr>\n",
       "    <tr>\n",
       "      <th>2.0</th>\n",
       "      <td>2106</td>\n",
       "    </tr>\n",
       "    <tr>\n",
       "      <th>3.0</th>\n",
       "      <td>1389</td>\n",
       "    </tr>\n",
       "    <tr>\n",
       "      <th>2.2</th>\n",
       "      <td>1320</td>\n",
       "    </tr>\n",
       "    <tr>\n",
       "      <th>4.0</th>\n",
       "      <td>568</td>\n",
       "    </tr>\n",
       "    <tr>\n",
       "      <th>5.0</th>\n",
       "      <td>365</td>\n",
       "    </tr>\n",
       "    <tr>\n",
       "      <th>7.0</th>\n",
       "      <td>201</td>\n",
       "    </tr>\n",
       "    <tr>\n",
       "      <th>6.0</th>\n",
       "      <td>111</td>\n",
       "    </tr>\n",
       "    <tr>\n",
       "      <th>8.0</th>\n",
       "      <td>8</td>\n",
       "    </tr>\n",
       "  </tbody>\n",
       "</table>\n",
       "</div>"
      ],
      "text/plain": [
       "               frequency\n",
       "noches_mínimo           \n",
       "1.0                 3379\n",
       "2.0                 2106\n",
       "3.0                 1389\n",
       "2.2                 1320\n",
       "4.0                  568\n",
       "5.0                  365\n",
       "7.0                  201\n",
       "6.0                  111\n",
       "8.0                    8"
      ]
     },
     "execution_count": 64,
     "metadata": {},
     "output_type": "execute_result"
    }
   ],
   "source": [
    "data.columns = data.columns.str.normalize('NFKC').str.replace(r'\\xad', '', regex=True)\n",
    "table1 = data['noches_mínimo'].value_counts().reset_index()\n",
    "table1.columns = ['noches_mínimo', 'frequency']\n",
    "filtro = table1[table1['frequency'] > 0]\n",
    "filtro_index = filtro.set_index('noches_mínimo')\n",
    "filtro_index\n"
   ]
  },
  {
   "cell_type": "code",
   "execution_count": 67,
   "metadata": {},
   "outputs": [
    {
     "data": {
      "text/plain": [
       "Text(0, 0.5, 'Frecuencia')"
      ]
     },
     "execution_count": 67,
     "metadata": {},
     "output_type": "execute_result"
    },
    {
     "data": {
      "image/png": "[encoded data removed]",
      "text/plain": [
       "<Figure size 1000x400 with 1 Axes>"
      ]
     },
     "metadata": {},
     "output_type": "display_data"
    }
   ],
   "source": [
    "filtro_index.plot(kind = 'bar', width=0.8, figsize=(10,4), color=\"black\")\n",
    "plt.title('Fuente de datos')\n",
    "plt.xlabel('noches_minimo')\n",
    "plt.ylabel(\"Frecuencia\")"
   ]
  },
  {
   "cell_type": "markdown",
   "metadata": {},
   "source": [
    "__15) calculated_host_listings_count__"
   ]
  },
  {
   "cell_type": "code",
   "execution_count": 69,
   "metadata": {},
   "outputs": [
    {
     "data": {
      "text/html": [
       "<div>\n",
       "<style scoped>\n",
       "    .dataframe tbody tr th:only-of-type {\n",
       "        vertical-align: middle;\n",
       "    }\n",
       "\n",
       "    .dataframe tbody tr th {\n",
       "        vertical-align: top;\n",
       "    }\n",
       "\n",
       "    .dataframe thead th {\n",
       "        text-align: right;\n",
       "    }\n",
       "</style>\n",
       "<table border=\"1\" class=\"dataframe\">\n",
       "  <thead>\n",
       "    <tr style=\"text-align: right;\">\n",
       "      <th></th>\n",
       "      <th>frequency</th>\n",
       "    </tr>\n",
       "    <tr>\n",
       "      <th>calculado_host_listings_count</th>\n",
       "      <th></th>\n",
       "    </tr>\n",
       "  </thead>\n",
       "  <tbody>\n",
       "    <tr>\n",
       "      <th>1.0</th>\n",
       "      <td>3124</td>\n",
       "    </tr>\n",
       "    <tr>\n",
       "      <th>3.8</th>\n",
       "      <td>1475</td>\n",
       "    </tr>\n",
       "    <tr>\n",
       "      <th>2.0</th>\n",
       "      <td>1358</td>\n",
       "    </tr>\n",
       "    <tr>\n",
       "      <th>3.0</th>\n",
       "      <td>801</td>\n",
       "    </tr>\n",
       "    <tr>\n",
       "      <th>4.0</th>\n",
       "      <td>616</td>\n",
       "    </tr>\n",
       "    <tr>\n",
       "      <th>5.0</th>\n",
       "      <td>390</td>\n",
       "    </tr>\n",
       "    <tr>\n",
       "      <th>6.0</th>\n",
       "      <td>264</td>\n",
       "    </tr>\n",
       "    <tr>\n",
       "      <th>8.0</th>\n",
       "      <td>256</td>\n",
       "    </tr>\n",
       "    <tr>\n",
       "      <th>7.0</th>\n",
       "      <td>231</td>\n",
       "    </tr>\n",
       "    <tr>\n",
       "      <th>9.0</th>\n",
       "      <td>153</td>\n",
       "    </tr>\n",
       "    <tr>\n",
       "      <th>14.0</th>\n",
       "      <td>140</td>\n",
       "    </tr>\n",
       "  </tbody>\n",
       "</table>\n",
       "</div>"
      ],
      "text/plain": [
       "                               frequency\n",
       "calculado_host_listings_count           \n",
       "1.0                                 3124\n",
       "3.8                                 1475\n",
       "2.0                                 1358\n",
       "3.0                                  801\n",
       "4.0                                  616\n",
       "5.0                                  390\n",
       "6.0                                  264\n",
       "8.0                                  256\n",
       "7.0                                  231\n",
       "9.0                                  153\n",
       "14.0                                 140"
      ]
     },
     "execution_count": 69,
     "metadata": {},
     "output_type": "execute_result"
    }
   ],
   "source": [
    "table1 = data['calculado_host_listings_count'].value_counts().reset_index()\n",
    "table1.columns = ['calculado_host_listings_count', 'frequency']\n",
    "filtro = table1[table1['frequency'] >100]\n",
    "filtro_index = filtro.set_index('calculado_host_listings_count')\n",
    "filtro_index"
   ]
  },
  {
   "cell_type": "code",
   "execution_count": 70,
   "metadata": {},
   "outputs": [
    {
     "data": {
      "text/plain": [
       "<Axes: xlabel='calculado_host_listings_count', ylabel='frequency'>"
      ]
     },
     "execution_count": 70,
     "metadata": {},
     "output_type": "execute_result"
    },
    {
     "data": {
      "image/png": "[encoded data removed]",
      "text/plain": [
       "<Figure size 640x480 with 1 Axes>"
      ]
     },
     "metadata": {},
     "output_type": "display_data"
    }
   ],
   "source": [
    "table1.plot('calculado_host_listings_count', 'frequency',kind=\"scatter\")"
   ]
  },
  {
   "cell_type": "markdown",
   "metadata": {},
   "source": [
    "__16) listados_host_calculados_recuento_casas_enteras__"
   ]
  },
  {
   "cell_type": "code",
   "execution_count": 71,
   "metadata": {},
   "outputs": [
    {
     "data": {
      "text/html": [
       "<div>\n",
       "<style scoped>\n",
       "    .dataframe tbody tr th:only-of-type {\n",
       "        vertical-align: middle;\n",
       "    }\n",
       "\n",
       "    .dataframe tbody tr th {\n",
       "        vertical-align: top;\n",
       "    }\n",
       "\n",
       "    .dataframe thead th {\n",
       "        text-align: right;\n",
       "    }\n",
       "</style>\n",
       "<table border=\"1\" class=\"dataframe\">\n",
       "  <thead>\n",
       "    <tr style=\"text-align: right;\">\n",
       "      <th></th>\n",
       "      <th>frequency</th>\n",
       "    </tr>\n",
       "    <tr>\n",
       "      <th>listados_host_calculados_recuento_casas_enteras</th>\n",
       "      <th></th>\n",
       "    </tr>\n",
       "  </thead>\n",
       "  <tbody>\n",
       "    <tr>\n",
       "      <th>1.0</th>\n",
       "      <td>2516</td>\n",
       "    </tr>\n",
       "    <tr>\n",
       "      <th>0.0</th>\n",
       "      <td>2266</td>\n",
       "    </tr>\n",
       "    <tr>\n",
       "      <th>2.4</th>\n",
       "      <td>1563</td>\n",
       "    </tr>\n",
       "    <tr>\n",
       "      <th>2.0</th>\n",
       "      <td>847</td>\n",
       "    </tr>\n",
       "    <tr>\n",
       "      <th>3.0</th>\n",
       "      <td>583</td>\n",
       "    </tr>\n",
       "    <tr>\n",
       "      <th>4.0</th>\n",
       "      <td>320</td>\n",
       "    </tr>\n",
       "    <tr>\n",
       "      <th>5.0</th>\n",
       "      <td>262</td>\n",
       "    </tr>\n",
       "    <tr>\n",
       "      <th>8.0</th>\n",
       "      <td>197</td>\n",
       "    </tr>\n",
       "    <tr>\n",
       "      <th>7.0</th>\n",
       "      <td>173</td>\n",
       "    </tr>\n",
       "    <tr>\n",
       "      <th>6.0</th>\n",
       "      <td>171</td>\n",
       "    </tr>\n",
       "    <tr>\n",
       "      <th>10.0</th>\n",
       "      <td>157</td>\n",
       "    </tr>\n",
       "    <tr>\n",
       "      <th>9.0</th>\n",
       "      <td>108</td>\n",
       "    </tr>\n",
       "  </tbody>\n",
       "</table>\n",
       "</div>"
      ],
      "text/plain": [
       "                                                 frequency\n",
       "listados_host_calculados_recuento_casas_enteras           \n",
       "1.0                                                   2516\n",
       "0.0                                                   2266\n",
       "2.4                                                   1563\n",
       "2.0                                                    847\n",
       "3.0                                                    583\n",
       "4.0                                                    320\n",
       "5.0                                                    262\n",
       "8.0                                                    197\n",
       "7.0                                                    173\n",
       "6.0                                                    171\n",
       "10.0                                                   157\n",
       "9.0                                                    108"
      ]
     },
     "execution_count": 71,
     "metadata": {},
     "output_type": "execute_result"
    }
   ],
   "source": [
    "table1 = data['listados_host_calculados_recuento_casas_enteras'].value_counts().reset_index()\n",
    "table1.columns = ['listados_host_calculados_recuento_casas_enteras', 'frequency']\n",
    "filtro = table1[table1['frequency'] >99]\n",
    "filtro_index = filtro.set_index('listados_host_calculados_recuento_casas_enteras')\n",
    "filtro_index"
   ]
  },
  {
   "cell_type": "code",
   "execution_count": 72,
   "metadata": {},
   "outputs": [
    {
     "data": {
      "text/plain": [
       "<Axes: xlabel='listados_host_calculados_recuento_casas_enteras', ylabel='frequency'>"
      ]
     },
     "execution_count": 72,
     "metadata": {},
     "output_type": "execute_result"
    },
    {
     "data": {
      "image/png": "[encoded data removed]",
      "text/plain": [
       "<Figure size 640x480 with 1 Axes>"
      ]
     },
     "metadata": {},
     "output_type": "display_data"
    }
   ],
   "source": [
    "table1.plot('listados_host_calculados_recuento_casas_enteras', 'frequency',kind=\"scatter\")"
   ]
  },
  {
   "cell_type": "markdown",
   "metadata": {},
   "source": [
    "__17) calculated_host_listings_count_shared_rooms__"
   ]
  },
  {
   "cell_type": "code",
   "execution_count": 77,
   "metadata": {},
   "outputs": [
    {
     "data": {
      "text/html": [
       "<div>\n",
       "<style scoped>\n",
       "    .dataframe tbody tr th:only-of-type {\n",
       "        vertical-align: middle;\n",
       "    }\n",
       "\n",
       "    .dataframe tbody tr th {\n",
       "        vertical-align: top;\n",
       "    }\n",
       "\n",
       "    .dataframe thead th {\n",
       "        text-align: right;\n",
       "    }\n",
       "</style>\n",
       "<table border=\"1\" class=\"dataframe\">\n",
       "  <thead>\n",
       "    <tr style=\"text-align: right;\">\n",
       "      <th></th>\n",
       "      <th>frequency</th>\n",
       "    </tr>\n",
       "    <tr>\n",
       "      <th>calculado_host_listings_count_shared_rooms</th>\n",
       "      <th></th>\n",
       "    </tr>\n",
       "  </thead>\n",
       "  <tbody>\n",
       "    <tr>\n",
       "      <th>0</th>\n",
       "      <td>9447</td>\n",
       "    </tr>\n",
       "  </tbody>\n",
       "</table>\n",
       "</div>"
      ],
      "text/plain": [
       "                                            frequency\n",
       "calculado_host_listings_count_shared_rooms           \n",
       "0                                                9447"
      ]
     },
     "execution_count": 77,
     "metadata": {},
     "output_type": "execute_result"
    }
   ],
   "source": [
    "table1 = data['calculado_host_listings_count_shared_rooms'].value_counts().reset_index()\n",
    "table1.columns = ['calculado_host_listings_count_shared_rooms', 'frequency']\n",
    "filtro = table1[table1['frequency'] >1]\n",
    "filtro_index = filtro.set_index('calculado_host_listings_count_shared_rooms')\n",
    "filtro_index"
   ]
  },
  {
   "cell_type": "code",
   "execution_count": 78,
   "metadata": {},
   "outputs": [
    {
     "data": {
      "text/plain": [
       "<Axes: ylabel='frequency'>"
      ]
     },
     "execution_count": 78,
     "metadata": {},
     "output_type": "execute_result"
    },
    {
     "data": {
      "image/png": "[encoded data removed]",
      "text/plain": [
       "<Figure size 1000x500 with 1 Axes>"
      ]
     },
     "metadata": {},
     "output_type": "display_data"
    }
   ],
   "source": [
    "filtro_index[\"frequency\"].plot(kind=\"pie\", figsize=(10,5), shadow=True, autopct=\"%0.1f %%\", colors=['gray'])"
   ]
  },
  {
   "cell_type": "markdown",
   "metadata": {},
   "source": [
    "__18) calculated_host_listings_count_private_rooms__"
   ]
  },
  {
   "cell_type": "code",
   "execution_count": 79,
   "metadata": {},
   "outputs": [
    {
     "data": {
      "text/html": [
       "<div>\n",
       "<style scoped>\n",
       "    .dataframe tbody tr th:only-of-type {\n",
       "        vertical-align: middle;\n",
       "    }\n",
       "\n",
       "    .dataframe tbody tr th {\n",
       "        vertical-align: top;\n",
       "    }\n",
       "\n",
       "    .dataframe thead th {\n",
       "        text-align: right;\n",
       "    }\n",
       "</style>\n",
       "<table border=\"1\" class=\"dataframe\">\n",
       "  <thead>\n",
       "    <tr style=\"text-align: right;\">\n",
       "      <th></th>\n",
       "      <th>frequency</th>\n",
       "    </tr>\n",
       "    <tr>\n",
       "      <th>calculado_host_listings_count_private_rooms</th>\n",
       "      <th></th>\n",
       "    </tr>\n",
       "  </thead>\n",
       "  <tbody>\n",
       "    <tr>\n",
       "      <th>0.0</th>\n",
       "      <td>6100</td>\n",
       "    </tr>\n",
       "    <tr>\n",
       "      <th>1.0</th>\n",
       "      <td>1366</td>\n",
       "    </tr>\n",
       "    <tr>\n",
       "      <th>0.3</th>\n",
       "      <td>1281</td>\n",
       "    </tr>\n",
       "    <tr>\n",
       "      <th>2.0</th>\n",
       "      <td>700</td>\n",
       "    </tr>\n",
       "  </tbody>\n",
       "</table>\n",
       "</div>"
      ],
      "text/plain": [
       "                                             frequency\n",
       "calculado_host_listings_count_private_rooms           \n",
       "0.0                                               6100\n",
       "1.0                                               1366\n",
       "0.3                                               1281\n",
       "2.0                                                700"
      ]
     },
     "execution_count": 79,
     "metadata": {},
     "output_type": "execute_result"
    }
   ],
   "source": [
    "table1 = data['calculado_host_listings_count_private_rooms'].value_counts().reset_index()\n",
    "table1.columns = ['calculado_host_listings_count_private_rooms', 'frequency']\n",
    "filtro = table1[table1['frequency'] >1]\n",
    "filtro_index = filtro.set_index('calculado_host_listings_count_private_rooms')\n",
    "filtro_index"
   ]
  },
  {
   "cell_type": "code",
   "execution_count": 80,
   "metadata": {},
   "outputs": [
    {
     "data": {
      "text/plain": [
       "<Axes: ylabel='frequency'>"
      ]
     },
     "execution_count": 80,
     "metadata": {},
     "output_type": "execute_result"
    },
    {
     "data": {
      "image/png": "[encoded data removed]",
      "text/plain": [
       "<Figure size 1000x500 with 1 Axes>"
      ]
     },
     "metadata": {},
     "output_type": "display_data"
    }
   ],
   "source": [
    "filtro_index[\"frequency\"].plot(kind=\"pie\", figsize=(10,5), shadow=True, autopct=\"%0.1f %%\", colors=['blue', 'skyblue', 'navy', 'royalblue'])"
   ]
  },
  {
   "cell_type": "markdown",
   "metadata": {},
   "source": [
    "__19) host id__"
   ]
  },
  {
   "cell_type": "code",
   "execution_count": 30,
   "metadata": {},
   "outputs": [
    {
     "data": {
      "text/html": [
       "<div>\n",
       "<style scoped>\n",
       "    .dataframe tbody tr th:only-of-type {\n",
       "        vertical-align: middle;\n",
       "    }\n",
       "\n",
       "    .dataframe tbody tr th {\n",
       "        vertical-align: top;\n",
       "    }\n",
       "\n",
       "    .dataframe thead th {\n",
       "        text-align: right;\n",
       "    }\n",
       "</style>\n",
       "<table border=\"1\" class=\"dataframe\">\n",
       "  <thead>\n",
       "    <tr style=\"text-align: right;\">\n",
       "      <th></th>\n",
       "      <th>frequency</th>\n",
       "    </tr>\n",
       "    <tr>\n",
       "      <th>id_host</th>\n",
       "      <th></th>\n",
       "    </tr>\n",
       "  </thead>\n",
       "  <tbody>\n",
       "    <tr>\n",
       "      <th>134221412</th>\n",
       "      <td>156</td>\n",
       "    </tr>\n",
       "    <tr>\n",
       "      <th>417948112</th>\n",
       "      <td>137</td>\n",
       "    </tr>\n",
       "    <tr>\n",
       "      <th>83066665</th>\n",
       "      <td>116</td>\n",
       "    </tr>\n",
       "  </tbody>\n",
       "</table>\n",
       "</div>"
      ],
      "text/plain": [
       "           frequency\n",
       "id_host             \n",
       "134221412        156\n",
       "417948112        137\n",
       "83066665         116"
      ]
     },
     "execution_count": 30,
     "metadata": {},
     "output_type": "execute_result"
    }
   ],
   "source": [
    "table1 = data['id_host'].value_counts().reset_index()\n",
    "table1.columns = ['id_host', 'frequency']\n",
    "filtro = table1[table1['frequency'] >99]\n",
    "filtro_index = filtro.set_index('id_host')\n",
    "filtro_index"
   ]
  },
  {
   "cell_type": "code",
   "execution_count": 31,
   "metadata": {},
   "outputs": [
    {
     "data": {
      "text/plain": [
       "Text(0, 0.5, 'Frecuencia')"
      ]
     },
     "execution_count": 31,
     "metadata": {},
     "output_type": "execute_result"
    },
    {
     "data": {
      "image/png": "[encoded data removed]",
      "text/plain": [
       "<Figure size 1000x400 with 1 Axes>"
      ]
     },
     "metadata": {},
     "output_type": "display_data"
    }
   ],
   "source": [
    "filtro_index.plot(kind = 'bar', width=0.8, figsize=(10,4), color=\"blue\")\n",
    "plt.title('Fuente de datos')\n",
    "plt.xlabel('id_host')\n",
    "plt.ylabel(\"Frecuencia\")"
   ]
  },
  {
   "cell_type": "markdown",
   "metadata": {},
   "source": [
    "__20) nombre_host__"
   ]
  },
  {
   "cell_type": "code",
   "execution_count": 33,
   "metadata": {},
   "outputs": [
    {
     "data": {
      "text/html": [
       "<div>\n",
       "<style scoped>\n",
       "    .dataframe tbody tr th:only-of-type {\n",
       "        vertical-align: middle;\n",
       "    }\n",
       "\n",
       "    .dataframe tbody tr th {\n",
       "        vertical-align: top;\n",
       "    }\n",
       "\n",
       "    .dataframe thead th {\n",
       "        text-align: right;\n",
       "    }\n",
       "</style>\n",
       "<table border=\"1\" class=\"dataframe\">\n",
       "  <thead>\n",
       "    <tr style=\"text-align: right;\">\n",
       "      <th></th>\n",
       "      <th>frequency</th>\n",
       "    </tr>\n",
       "    <tr>\n",
       "      <th>nombre_host</th>\n",
       "      <th></th>\n",
       "    </tr>\n",
       "  </thead>\n",
       "  <tbody>\n",
       "    <tr>\n",
       "      <th>VLC Host</th>\n",
       "      <td>156</td>\n",
       "    </tr>\n",
       "    <tr>\n",
       "      <th>Alexandra</th>\n",
       "      <td>150</td>\n",
       "    </tr>\n",
       "    <tr>\n",
       "      <th>SingularStays</th>\n",
       "      <td>116</td>\n",
       "    </tr>\n",
       "    <tr>\n",
       "      <th>Carlos</th>\n",
       "      <td>106</td>\n",
       "    </tr>\n",
       "  </tbody>\n",
       "</table>\n",
       "</div>"
      ],
      "text/plain": [
       "               frequency\n",
       "nombre_host             \n",
       "VLC Host             156\n",
       "Alexandra            150\n",
       "SingularStays        116\n",
       "Carlos               106"
      ]
     },
     "execution_count": 33,
     "metadata": {},
     "output_type": "execute_result"
    }
   ],
   "source": [
    "table1 = data['nombre_host'].value_counts().reset_index()\n",
    "table1.columns = ['nombre_host', 'frequency']\n",
    "filtro = table1[table1['frequency'] >99]\n",
    "filtro_index = filtro.set_index('nombre_host')\n",
    "filtro_index"
   ]
  },
  {
   "cell_type": "code",
   "execution_count": 34,
   "metadata": {},
   "outputs": [
    {
     "data": {
      "text/plain": [
       "<Axes: ylabel='frequency'>"
      ]
     },
     "execution_count": 34,
     "metadata": {},
     "output_type": "execute_result"
    },
    {
     "data": {
      "image/png": "[encoded data removed]",
      "text/plain": [
       "<Figure size 1000x500 with 1 Axes>"
      ]
     },
     "metadata": {},
     "output_type": "display_data"
    }
   ],
   "source": [
    "filtro_index[\"frequency\"].plot(kind=\"pie\", figsize=(10,5), shadow=True, autopct=\"%0.1f %%\", colors=['green', 'pink', 'orange', 'blue'])"
   ]
  }
 ],
 "metadata": {
  "kernelspec": {
   "display_name": "Python 3",
   "language": "python",
   "name": "python3"
  },
  "language_info": {
   "codemirror_mode": {
    "name": "ipython",
    "version": 3
   },
   "file_extension": ".py",
   "mimetype": "text/x-python",
   "name": "python",
   "nbconvert_exporter": "python",
   "pygments_lexer": "ipython3",
   "version": "3.13.1"
  }
 },
 "nbformat": 4,
 "nbformat_minor": 2
}
